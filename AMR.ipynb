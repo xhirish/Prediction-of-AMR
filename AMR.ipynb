{
 "cells": [
  {
   "cell_type": "code",
   "execution_count": 2,
   "id": "ba0677d0-ace8-4172-ad8b-9eb5bc3e9a65",
   "metadata": {},
   "outputs": [],
   "source": [
    "from Bio import Entrez, SeqIO\n",
    "Entrez.email = \"\" \n",
    "handle = Entrez.efetch(db=\"nucleotide\", id=\"MN908947\", rettype=\"gb\", retmode=\"text\")\n",
    "rec = list(SeqIO.parse(handle, 'gb'))\n",
    "handle.close()"
   ]
  },
  {
   "cell_type": "code",
   "execution_count": 3,
   "id": "9cd8834b-a7c8-4fa9-a0cd-e2115475dc86",
   "metadata": {},
   "outputs": [
    {
     "data": {
      "text/plain": [
       "[SeqRecord(seq=Seq('ATTAAAGGTTTATACCTTCCCAGGTAACAAACCAACCAACTTTCGATCTCTTGT...AAA'), id='MN908947.3', name='MN908947', description='Severe acute respiratory syndrome coronavirus 2 isolate Wuhan-Hu-1, complete genome', dbxrefs=[])]"
      ]
     },
     "execution_count": 3,
     "metadata": {},
     "output_type": "execute_result"
    }
   ],
   "source": [
    "rec"
   ]
  },
  {
   "cell_type": "code",
   "execution_count": 4,
   "id": "d3028b75-1e7a-4e33-b8f7-295d38d2c5f5",
   "metadata": {},
   "outputs": [],
   "source": [
    "covid_dna = recs[0].seq"
   ]
  },
  {
   "cell_type": "code",
   "execution_count": 5,
   "id": "a23bfc46-5e1a-438f-a692-1b72a97694d0",
   "metadata": {},
   "outputs": [
    {
     "data": {
      "text/plain": [
       "Seq('ATTAAAGGTTTATACCTTCCCAGGTAACAAACCAACCAACTTTCGATCTCTTGT...AAA')"
      ]
     },
     "execution_count": 5,
     "metadata": {},
     "output_type": "execute_result"
    }
   ],
   "source": [
    "covid_dna"
   ]
  },
  {
   "cell_type": "code",
   "execution_count": 7,
   "id": "a239a6db-3525-4d00-aea1-8e17b9b416f3",
   "metadata": {},
   "outputs": [
    {
     "name": "stdout",
     "output_type": "stream",
     "text": [
      "The gene of Covid-19 consists of 29903 nucleotides.\n"
     ]
    }
   ],
   "source": [
    "print(f'The gene of Covid-19 consists of {len(covid_dna)} nucleotides.')"
   ]
  },
  {
   "cell_type": "code",
   "execution_count": 8,
   "id": "754aba54-b26b-4292-8e30-d5b7a79c115d",
   "metadata": {},
   "outputs": [],
   "source": [
    "# to calculate the molecular wieght"
   ]
  },
  {
   "cell_type": "code",
   "execution_count": 9,
   "id": "d55945d0-6710-437c-b307-d7cf4c6050a6",
   "metadata": {},
   "outputs": [
    {
     "data": {
      "text/plain": [
       "9241219.214400413"
      ]
     },
     "execution_count": 9,
     "metadata": {},
     "output_type": "execute_result"
    }
   ],
   "source": [
    "from Bio.SeqUtils import molecular_weight\n",
    "molecular_weight(covid_dna)"
   ]
  },
  {
   "cell_type": "code",
   "execution_count": 10,
   "id": "54b1aded-bbae-4a55-9f24-59eb9521d8d1",
   "metadata": {},
   "outputs": [
    {
     "name": "stderr",
     "output_type": "stream",
     "text": [
      "C:\\Users\\shiri\\AppData\\Local\\Programs\\Python\\Python311\\Lib\\site-packages\\Bio\\SeqUtils\\__init__.py:144: BiopythonDeprecationWarning: GC is deprecated; please use gc_fraction instead.\n",
      "  warnings.warn(\n"
     ]
    },
    {
     "data": {
      "text/plain": [
       "37.97277865097148"
      ]
     },
     "execution_count": 10,
     "metadata": {},
     "output_type": "execute_result"
    }
   ],
   "source": [
    "from Bio.SeqUtils import GC\n",
    "GC(covid_dna)"
   ]
  },
  {
   "cell_type": "code",
   "execution_count": 11,
   "id": "3e9e4147-433f-4134-bf37-ab801c47f621",
   "metadata": {},
   "outputs": [],
   "source": [
    "count_nucleotides = {\n",
    "    'A': covid_dna.count('A'),\n",
    "    'T': covid_dna.count('T'),\n",
    "    'C': covid_dna.count('C'),\n",
    "    'G': covid_dna.count('G')\n",
    "}"
   ]
  },
  {
   "cell_type": "code",
   "execution_count": 12,
   "id": "d583bfc3-6ed3-4eb9-a3ed-4586bcc6222c",
   "metadata": {},
   "outputs": [
    {
     "data": {
      "text/plain": [
       "{'A': 8954, 'T': 9594, 'C': 5492, 'G': 5863}"
      ]
     },
     "execution_count": 12,
     "metadata": {},
     "output_type": "execute_result"
    }
   ],
   "source": [
    "count_nucleotides"
   ]
  },
  {
   "cell_type": "code",
   "execution_count": 13,
   "id": "2af84b32-2123-4a31-92d3-3fc824deb308",
   "metadata": {},
   "outputs": [
    {
     "data": {
      "text/plain": [
       "Seq('AUUAAAGGUUUAUACCUUCCCAGGUAACAAACCAACCAACUUUCGAUCUCUUGU...AAA')"
      ]
     },
     "execution_count": 13,
     "metadata": {},
     "output_type": "execute_result"
    }
   ],
   "source": [
    "covid_mrna = covid_dna.transcribe()\n",
    "covid_mrna"
   ]
  },
  {
   "cell_type": "code",
   "execution_count": 14,
   "id": "abeb6e8f-88c1-4e9f-b769-b04038c72338",
   "metadata": {},
   "outputs": [],
   "source": [
    "#common acids\n"
   ]
  },
  {
   "cell_type": "code",
   "execution_count": 16,
   "id": "ec2af841-ac1a-4fee-99e3-889bbb252177",
   "metadata": {},
   "outputs": [
    {
     "name": "stderr",
     "output_type": "stream",
     "text": [
      "C:\\Users\\shiri\\AppData\\Local\\Programs\\Python\\Python311\\Lib\\site-packages\\Bio\\Seq.py:2804: BiopythonWarning: Partial codon, len(sequence) not a multiple of three. Explicitly trim the sequence or add trailing N before translation. This may become an error in future.\n",
      "  warnings.warn(\n"
     ]
    },
    {
     "data": {
      "text/plain": [
       "Seq('IKGLYLPR*QTNQLSISCRSVL*TNFKICVAVTRLHA*CTHAV*LITNYCR*QD...KKK')"
      ]
     },
     "execution_count": 16,
     "metadata": {},
     "output_type": "execute_result"
    }
   ],
   "source": [
    "covid_aa = covid_mrna.translate()\n",
    "covid_aa"
   ]
  },
  {
   "cell_type": "code",
   "execution_count": 17,
   "id": "5e968771-6011-4205-8cad-74042223401d",
   "metadata": {},
   "outputs": [
    {
     "data": {
      "text/plain": [
       "[('L', 886),\n",
       " ('S', 810),\n",
       " ('*', 774),\n",
       " ('T', 679),\n",
       " ('C', 635),\n",
       " ('F', 593),\n",
       " ('R', 558),\n",
       " ('V', 548),\n",
       " ('Y', 505),\n",
       " ('N', 472)]"
      ]
     },
     "execution_count": 17,
     "metadata": {},
     "output_type": "execute_result"
    }
   ],
   "source": [
    "from collections import Counter\n",
    "common_amino = Counter(covid_aa)\n",
    "common_amino.most_common(10)"
   ]
  },
  {
   "cell_type": "code",
   "execution_count": 18,
   "id": "65fea5f7-4960-4c02-8076-45374960f686",
   "metadata": {},
   "outputs": [],
   "source": [
    "#delete the amino acid"
   ]
  },
  {
   "cell_type": "code",
   "execution_count": 19,
   "id": "d4446d1c-7e8e-43b9-ac8f-b59a1524cda8",
   "metadata": {},
   "outputs": [],
   "source": [
    "#protien frequency"
   ]
  },
  {
   "cell_type": "code",
   "execution_count": 20,
   "id": "aeeab8df-b189-445a-954f-2563e3dbe59a",
   "metadata": {},
   "outputs": [
    {
     "data": {
      "text/plain": [
       "Text(0.5, 1.0, 'Protein Sequence Frequency')"
      ]
     },
     "execution_count": 20,
     "metadata": {},
     "output_type": "execute_result"
    },
    {
     "data": {
      "image/png": "[encoded data removed]",
      "text/plain": [
       "<Figure size 640x480 with 1 Axes>"
      ]
     },
     "metadata": {},
     "output_type": "display_data"
    }
   ],
   "source": [
    "import matplotlib.pyplot as plt\n",
    "del common_amino['*']\n",
    "\n",
    "width = 0.5\n",
    "plt.bar(common_amino.keys(), common_amino.values(), width, color=['b', 'r', 'm', 'c'])\n",
    "plt.xlabel('Amino Acid')\n",
    "plt.ylabel('Frequency')\n",
    "plt.title('Protein Sequence Frequency')"
   ]
  },
  {
   "cell_type": "code",
   "execution_count": 21,
   "id": "144c1541-ee28-4e36-b03d-f5c0e85e2f74",
   "metadata": {},
   "outputs": [
    {
     "name": "stdout",
     "output_type": "stream",
     "text": [
      "Covid-19's gene has  9193 amount of  amino acids\n"
     ]
    }
   ],
   "source": [
    "print(f\"Covid-19's gene has  {sum(common_amino.values())} amount of  amino acids\")"
   ]
  },
  {
   "cell_type": "code",
   "execution_count": 22,
   "id": "f9b78fa2-5299-455d-95af-b018704ac636",
   "metadata": {},
   "outputs": [],
   "source": [
    "proteins = covid_aa.split('*')"
   ]
  },
  {
   "cell_type": "code",
   "execution_count": 24,
   "id": "ffb70719-7fc3-455f-805d-f2abac84b426",
   "metadata": {},
   "outputs": [
    {
     "data": {
      "text/plain": [
       "[Seq('IKGLYLPR'),\n",
       " Seq('QTNQLSISCRSVL'),\n",
       " Seq('TNFKICVAVTRLHA'),\n",
       " Seq('CTHAV'),\n",
       " Seq('LITNYCR'),\n",
       " Seq('QDTSNSSIFCRLLTVSSVLQPIISTSRFRPGVTER'),\n",
       " Seq('DGEPCPWFQRENTRPTQFACFTGSRRARTWLWRLRGGGLIRGTSTS'),\n",
       " Seq('RWHLWLSRS'),\n",
       " Seq('KRRFAST'),\n",
       " Seq('TALCVHQTFGCSNCTSWSCYG')]"
      ]
     },
     "execution_count": 24,
     "metadata": {},
     "output_type": "execute_result"
    }
   ],
   "source": [
    "proteins[:10]"
   ]
  },
  {
   "cell_type": "code",
   "execution_count": 25,
   "id": "4d893384-90a0-4a59-b705-f52637f5566c",
   "metadata": {},
   "outputs": [
    {
     "name": "stdout",
     "output_type": "stream",
     "text": [
      "We have 775 amino acids in the covid-19 genome\n"
     ]
    }
   ],
   "source": [
    "print(f'We have {len(proteins)} amino acids in the covid-19 genome')"
   ]
  },
  {
   "cell_type": "code",
   "execution_count": 26,
   "id": "6f937bba-bb3d-40e9-b44a-8a2adc21a8f1",
   "metadata": {},
   "outputs": [],
   "source": [
    "for protein in proteins:\n",
    "    if len(protein) < 20:\n",
    "        proteins.remove(protein)"
   ]
  },
  {
   "cell_type": "code",
   "execution_count": 27,
   "id": "bbd3e3b8-6ebc-46a1-a07c-2f6a5946c060",
   "metadata": {},
   "outputs": [
    {
     "name": "stdout",
     "output_type": "stream",
     "text": [
      "We have 409 proteins with more than 20 amino acids in the covid-19 genome\n"
     ]
    }
   ],
   "source": [
    "print(f'We have {len(proteins)} proteins with more than 20 amino acids in the covid-19 genome')"
   ]
  },
  {
   "cell_type": "code",
   "execution_count": 28,
   "id": "0d0cf019-c11d-445d-8a02-f153a1546ce5",
   "metadata": {},
   "outputs": [],
   "source": [
    "top_10_proteins = sorted(proteins, key = len)"
   ]
  },
  {
   "cell_type": "code",
   "execution_count": 29,
   "id": "f0c7f7b8-23c4-410a-928c-e68e65f390c2",
   "metadata": {},
   "outputs": [
    {
     "data": {
      "text/plain": [
       "Seq('CTIVFKRVCGVSAARLTPCGTGTSTDVVYRAFDIYNDKVAGFAKFLKTNCCRFQ...VNN')"
      ]
     },
     "execution_count": 29,
     "metadata": {},
     "output_type": "execute_result"
    }
   ],
   "source": [
    "top_10_proteins[-1]"
   ]
  },
  {
   "cell_type": "code",
   "execution_count": 30,
   "id": "3cc98f37-e700-4320-a932-66ece1ad5716",
   "metadata": {},
   "outputs": [
    {
     "data": {
      "text/plain": [
       "2701"
      ]
     },
     "execution_count": 30,
     "metadata": {},
     "output_type": "execute_result"
    }
   ],
   "source": [
    "len(top_10_proteins[-1])"
   ]
  },
  {
   "cell_type": "code",
   "execution_count": 32,
   "id": "66f48308-8477-4a67-8855-8c09c854594e",
   "metadata": {},
   "outputs": [],
   "source": [
    "with open(\"protein_seq.fasta\", \"w\") as file:\n",
    "    file.write(f\">covid protein\\n{top_10_proteins[-1]}\")"
   ]
  },
  {
   "cell_type": "code",
   "execution_count": 33,
   "id": "63d2e61f-5e77-44cd-81bd-2f9b548935be",
   "metadata": {},
   "outputs": [
    {
     "name": "stdout",
     "output_type": "stream",
     "text": [
      "covid\n",
      "CTIVFKRVCGVSAARLTPCGTGTSTDVVYRAFDIYNDKVAGFAKFLKTNCCRFQEKDEDDNLIDSYFVVKRHTFSNYQHEETIYNLLKDCPAVAKHDFFKFRIDGDMVPHISRQRLTKYTMADLVYALRHFDEGNCDTLKEILVTYNCCDDDYFNKKDWYDFVENPDILRVYANLGERVRQALLKTVQFCDAMRNAGIVGVLTLDNQDLNGNWYDFGDFIQTTPGSGVPVVDSYYSLLMPILTLTRALTAESHVDTDLTKPYIKWDLLKYDFTEERLKLFDRYFKYWDQTYHPNCVNCLDDRCILHCANFNVLFSTVFPPTSFGPLVRKIFVDGVPFVVSTGYHFRELGVVHNQDVNLHSSRLSFKELLVYAADPAMHAASGNLLLDKRTTCFSVAALTNNVAFQTVKPGNFNKDFYDFAVSKGFFKEGSSVELKHFFFAQDGNAAISDYDYYRYNLPTMCDIRQLLFVVEVVDKYFDCYDGGCINANQVIVNNLDKSAGFPFNKWGKARLYYDSMSYEDQDALFAYTKRNVIPTITQMNLKYAISAKNRARTVAGVSICSTMTNRQFHQKLLKSIAATRGATVVIGTSKFYGGWHNMLKTVYSDVENPHLMGWDYPKCDRAMPNMLRIMASLVLARKHTTCCSLSHRFYRLANECAQVLSEMVMCGGSLYVKPGGTSSGDATTAYANSVFNICQAVTANVNALLSTDGNKIADKYVRNLQHRLYECLYRNRDVDTDFVNEFYAYLRKHFSMMILSDDAVVCFNSTYASQGLVASIKNFKSVLYYQNNVFMSEAKCWTETDLTKGPHEFCSQHTMLVKQGDDYVYLPYPDPSRILGAGCFVDDIVKTDGTLMIERFVSLAIDAYPLTKHPNQEYADVFHLYLQYIRKLHDELTGHMLDMYSVMLTNDNTSRYWEPEFYEAMYTPHTVLQAVGACVLCNSQTSLRCGACIRRPFLCCKCCYDHVISTSHKLVLSVNPYVCNAPGCDVTDVTQLYLGGMSYYCKSHKPPISFPLCANGQVFGLYKNTCVGSDNVTDFNAIATCDWTNAGDYILANTCTERLKLFAAETLKATEETFKLSYGIATVREVLSDRELHLSWEVGKPRPPLNRNYVFTGYRVTKNSKVQIGEYTFEKGDYGDAVVYRGTTTYKLNVGDYFVLTSHTVMPLSAPTLVPQEHYVRITGLYPTLNISDEFSSNVANYQKVGMQKYSTLQGPPGTGKSHFAIGLALYYPSARIVYTACSHAAVDALCEKALKYLPIDKCSRIIPARARVECFDKFKVNSTLEQYVFCTVNALPETTADIVVFDEISMATNYDLSVVNARLRAKHYVYIGDPAQLPAPRTLLTKGTLEPEYFNSVCRLMKTIGPDMFLGTCRRCPAEIVDTVSALVYDNKLKAHKDKSAQCFKMFYKGVITHDVSSAINRPQIGVVREFLTRNPAWRKAVFISPYNSQNAVASKILGLPTQTVDSSQGSEYDYVIFTQTTETAHSCNVNRFNVAITRAKVGILCIMSDRDLYDKLQFTSLEIPRRNVATLQAENVTGLFKDCSKVITGLHPTQAPTHLSVDTKFKTEGLCVDIPGIPKDMTYRRLISMMGFKMNYQVNGYPNMFITREEAIRHVRAWIGFDVEGCHATREAVGTNLPLQLGFSTGVNLVAVPTGYVDTPNNTDFSRVSAKPPPGDQFKHLIPLMYKGLPWNVVRIKIVQMLSDTLKNLSDRVVFVLWAHGFELTSMKYFVKIGPERTCCLCDRRATCFSTASDTYACWHHSIGFDYVYNPFMIDVQQWGFTGNLQSNHDLYCQVHGNAHVASCDAIMTRCLAVHECFVKRVDWTIEYPIIGDELKINAACRKVQHMVVKAALLADKFPVLHDIGNPKAIKCVPQADVEWKFYDAQPCSDKAYKIEELFYSYATHSDKFTDGVCLFWNCNVDRYPANSIVCRFDTRVLSNLNLPGCDGGSLYVNKHAFHTPAFDKSAFVNLKQLPFFYYSDSPCESHGKQVVSDIDYVPLKSATCITRCNLGGAVCRHHANEYRLYLDAYNMMISAGFSLWVYKQFDTYNLWNTFTRLQSLENVAFNVVNKGHFDGQQGEVPVSIINNTVYTKVDGVDVELFENKTTLPVNVAFELWAKRNIKPVPEVKILNNLGVDIAANTVIWDYKRDAPAHISTIGVCSMTDIAKKPTETICAPLTVFFDGRVDGQVDLFRNARNGVLITEGSVKGLQPSVGPKQASLNGVTLIGEAVKTQFNYYKKVDGVVQQLPETYFTQSRNLQEFKPRSQMEIDFLELAMDEFIERYKLEGYAFEHIVYGDFSHSQLGGLHLLIGLAKRFKESPFELEDFIPMDSTVKNYFITDAQTGSSKCVCSVIDLLLDDFVEIIKSQDLSVVSKVVKVTIDYTEISFMLWCKDGHVETFYPKLQSSQAWQPGVAMPNLYKMQRMLLEKCDLQNYGDSATLPKGIMMNVAKYTQLCQYLNTLTLAVPYNMRVIHFGAGSDKGVAPGTAVLRQWLPTGTLLVDSDLNDFVSDADSTLIGDCATVHTANKWDLIISDMYDPKTKNVTKENDSKEGFFTYICGFIQQKLALGGSVAIKITEHSWNADLYKLMGHFAWWTAFVTNVNASSSEAFLIGCNYLGKPREQIDGYVMHANYIFWRNTNPIQLSSYSLFDMSKFPLKLRGTAVMSLKEGQINDMILSLLSKGRLIIRENNRVVISSDVLVNN\n"
     ]
    }
   ],
   "source": [
    "from Bio import SeqIO\n",
    "for sequence in SeqIO.parse('protein_seq.fasta', \"fasta\"):\n",
    "    print(sequence.id)\n",
    "    print(sequence.seq)"
   ]
  },
  {
   "cell_type": "code",
   "execution_count": 34,
   "id": "1b8500aa-ec01-4f10-ba20-aca7dcb7205f",
   "metadata": {},
   "outputs": [],
   "source": [
    "\n",
    "## loop through sequences and split into individual nucleotides"
   ]
  },
  {
   "cell_type": "code",
   "execution_count": 35,
   "id": "aa9c0e4c-d41a-40ac-a4bf-a4ede446c425",
   "metadata": {},
   "outputs": [
    {
     "name": "stdout",
     "output_type": "stream",
     "text": [
      "{0: ['C'], 1: ['T'], 2: ['I'], 3: ['V'], 4: ['F'], 5: ['K'], 6: ['R'], 7: ['V'], 8: ['C'], 9: ['G'], 10: ['V'], 11: ['S'], 12: ['A'], 13: ['A'], 14: ['R'], 15: ['L'], 16: ['T'], 17: ['P'], 18: ['C'], 19: ['G'], 20: ['T'], 21: ['G'], 22: ['T'], 23: ['S'], 24: ['T'], 25: ['D'], 26: ['V'], 27: ['V'], 28: ['Y'], 29: ['R'], 30: ['A'], 31: ['F'], 32: ['D'], 33: ['I'], 34: ['Y'], 35: ['N'], 36: ['D'], 37: ['K'], 38: ['V'], 39: ['A'], 40: ['G'], 41: ['F'], 42: ['A'], 43: ['K'], 44: ['F'], 45: ['L'], 46: ['K'], 47: ['T'], 48: ['N'], 49: ['C'], 50: ['C'], 51: ['R'], 52: ['F'], 53: ['Q'], 54: ['E'], 55: ['K'], 56: ['D'], 57: ['E'], 58: ['D'], 59: ['D'], 60: ['N'], 61: ['L'], 62: ['I'], 63: ['D'], 64: ['S'], 65: ['Y'], 66: ['F'], 67: ['V'], 68: ['V'], 69: ['K'], 70: ['R'], 71: ['H'], 72: ['T'], 73: ['F'], 74: ['S'], 75: ['N'], 76: ['Y'], 77: ['Q'], 78: ['H'], 79: ['E'], 80: ['E'], 81: ['T'], 82: ['I'], 83: ['Y'], 84: ['N'], 85: ['L'], 86: ['L'], 87: ['K'], 88: ['D'], 89: ['C'], 90: ['P'], 91: ['A'], 92: ['V'], 93: ['A'], 94: ['K'], 95: ['H'], 96: ['D'], 97: ['F'], 98: ['F'], 99: ['K'], 100: ['F'], 101: ['R'], 102: ['I'], 103: ['D'], 104: ['G'], 105: ['D'], 106: ['M'], 107: ['V'], 108: ['P'], 109: ['H'], 110: ['I'], 111: ['S'], 112: ['R'], 113: ['Q'], 114: ['R'], 115: ['L'], 116: ['T'], 117: ['K'], 118: ['Y'], 119: ['T'], 120: ['M'], 121: ['A'], 122: ['D'], 123: ['L'], 124: ['V'], 125: ['Y'], 126: ['A'], 127: ['L'], 128: ['R'], 129: ['H'], 130: ['F'], 131: ['D'], 132: ['E'], 133: ['G'], 134: ['N'], 135: ['C'], 136: ['D'], 137: ['T'], 138: ['L'], 139: ['K'], 140: ['E'], 141: ['I'], 142: ['L'], 143: ['V'], 144: ['T'], 145: ['Y'], 146: ['N'], 147: ['C'], 148: ['C'], 149: ['D'], 150: ['D'], 151: ['D'], 152: ['Y'], 153: ['F'], 154: ['N'], 155: ['K'], 156: ['K'], 157: ['D'], 158: ['W'], 159: ['Y'], 160: ['D'], 161: ['F'], 162: ['V'], 163: ['E'], 164: ['N'], 165: ['P'], 166: ['D'], 167: ['I'], 168: ['L'], 169: ['R'], 170: ['V'], 171: ['Y'], 172: ['A'], 173: ['N'], 174: ['L'], 175: ['G'], 176: ['E'], 177: ['R'], 178: ['V'], 179: ['R'], 180: ['Q'], 181: ['A'], 182: ['L'], 183: ['L'], 184: ['K'], 185: ['T'], 186: ['V'], 187: ['Q'], 188: ['F'], 189: ['C'], 190: ['D'], 191: ['A'], 192: ['M'], 193: ['R'], 194: ['N'], 195: ['A'], 196: ['G'], 197: ['I'], 198: ['V'], 199: ['G'], 200: ['V'], 201: ['L'], 202: ['T'], 203: ['L'], 204: ['D'], 205: ['N'], 206: ['Q'], 207: ['D'], 208: ['L'], 209: ['N'], 210: ['G'], 211: ['N'], 212: ['W'], 213: ['Y'], 214: ['D'], 215: ['F'], 216: ['G'], 217: ['D'], 218: ['F'], 219: ['I'], 220: ['Q'], 221: ['T'], 222: ['T'], 223: ['P'], 224: ['G'], 225: ['S'], 226: ['G'], 227: ['V'], 228: ['P'], 229: ['V'], 230: ['V'], 231: ['D'], 232: ['S'], 233: ['Y'], 234: ['Y'], 235: ['S'], 236: ['L'], 237: ['L'], 238: ['M'], 239: ['P'], 240: ['I'], 241: ['L'], 242: ['T'], 243: ['L'], 244: ['T'], 245: ['R'], 246: ['A'], 247: ['L'], 248: ['T'], 249: ['A'], 250: ['E'], 251: ['S'], 252: ['H'], 253: ['V'], 254: ['D'], 255: ['T'], 256: ['D'], 257: ['L'], 258: ['T'], 259: ['K'], 260: ['P'], 261: ['Y'], 262: ['I'], 263: ['K'], 264: ['W'], 265: ['D'], 266: ['L'], 267: ['L'], 268: ['K'], 269: ['Y'], 270: ['D'], 271: ['F'], 272: ['T'], 273: ['E'], 274: ['E'], 275: ['R'], 276: ['L'], 277: ['K'], 278: ['L'], 279: ['F'], 280: ['D'], 281: ['R'], 282: ['Y'], 283: ['F'], 284: ['K'], 285: ['Y'], 286: ['W'], 287: ['D'], 288: ['Q'], 289: ['T'], 290: ['Y'], 291: ['H'], 292: ['P'], 293: ['N'], 294: ['C'], 295: ['V'], 296: ['N'], 297: ['C'], 298: ['L'], 299: ['D'], 300: ['D'], 301: ['R'], 302: ['C'], 303: ['I'], 304: ['L'], 305: ['H'], 306: ['C'], 307: ['A'], 308: ['N'], 309: ['F'], 310: ['N'], 311: ['V'], 312: ['L'], 313: ['F'], 314: ['S'], 315: ['T'], 316: ['V'], 317: ['F'], 318: ['P'], 319: ['P'], 320: ['T'], 321: ['S'], 322: ['F'], 323: ['G'], 324: ['P'], 325: ['L'], 326: ['V'], 327: ['R'], 328: ['K'], 329: ['I'], 330: ['F'], 331: ['V'], 332: ['D'], 333: ['G'], 334: ['V'], 335: ['P'], 336: ['F'], 337: ['V'], 338: ['V'], 339: ['S'], 340: ['T'], 341: ['G'], 342: ['Y'], 343: ['H'], 344: ['F'], 345: ['R'], 346: ['E'], 347: ['L'], 348: ['G'], 349: ['V'], 350: ['V'], 351: ['H'], 352: ['N'], 353: ['Q'], 354: ['D'], 355: ['V'], 356: ['N'], 357: ['L'], 358: ['H'], 359: ['S'], 360: ['S'], 361: ['R'], 362: ['L'], 363: ['S'], 364: ['F'], 365: ['K'], 366: ['E'], 367: ['L'], 368: ['L'], 369: ['V'], 370: ['Y'], 371: ['A'], 372: ['A'], 373: ['D'], 374: ['P'], 375: ['A'], 376: ['M'], 377: ['H'], 378: ['A'], 379: ['A'], 380: ['S'], 381: ['G'], 382: ['N'], 383: ['L'], 384: ['L'], 385: ['L'], 386: ['D'], 387: ['K'], 388: ['R'], 389: ['T'], 390: ['T'], 391: ['C'], 392: ['F'], 393: ['S'], 394: ['V'], 395: ['A'], 396: ['A'], 397: ['L'], 398: ['T'], 399: ['N'], 400: ['N'], 401: ['V'], 402: ['A'], 403: ['F'], 404: ['Q'], 405: ['T'], 406: ['V'], 407: ['K'], 408: ['P'], 409: ['G'], 410: ['N'], 411: ['F'], 412: ['N'], 413: ['K'], 414: ['D'], 415: ['F'], 416: ['Y'], 417: ['D'], 418: ['F'], 419: ['A'], 420: ['V'], 421: ['S'], 422: ['K'], 423: ['G'], 424: ['F'], 425: ['F'], 426: ['K'], 427: ['E'], 428: ['G'], 429: ['S'], 430: ['S'], 431: ['V'], 432: ['E'], 433: ['L'], 434: ['K'], 435: ['H'], 436: ['F'], 437: ['F'], 438: ['F'], 439: ['A'], 440: ['Q'], 441: ['D'], 442: ['G'], 443: ['N'], 444: ['A'], 445: ['A'], 446: ['I'], 447: ['S'], 448: ['D'], 449: ['Y'], 450: ['D'], 451: ['Y'], 452: ['Y'], 453: ['R'], 454: ['Y'], 455: ['N'], 456: ['L'], 457: ['P'], 458: ['T'], 459: ['M'], 460: ['C'], 461: ['D'], 462: ['I'], 463: ['R'], 464: ['Q'], 465: ['L'], 466: ['L'], 467: ['F'], 468: ['V'], 469: ['V'], 470: ['E'], 471: ['V'], 472: ['V'], 473: ['D'], 474: ['K'], 475: ['Y'], 476: ['F'], 477: ['D'], 478: ['C'], 479: ['Y'], 480: ['D'], 481: ['G'], 482: ['G'], 483: ['C'], 484: ['I'], 485: ['N'], 486: ['A'], 487: ['N'], 488: ['Q'], 489: ['V'], 490: ['I'], 491: ['V'], 492: ['N'], 493: ['N'], 494: ['L'], 495: ['D'], 496: ['K'], 497: ['S'], 498: ['A'], 499: ['G'], 500: ['F'], 501: ['P'], 502: ['F'], 503: ['N'], 504: ['K'], 505: ['W'], 506: ['G'], 507: ['K'], 508: ['A'], 509: ['R'], 510: ['L'], 511: ['Y'], 512: ['Y'], 513: ['D'], 514: ['S'], 515: ['M'], 516: ['S'], 517: ['Y'], 518: ['E'], 519: ['D'], 520: ['Q'], 521: ['D'], 522: ['A'], 523: ['L'], 524: ['F'], 525: ['A'], 526: ['Y'], 527: ['T'], 528: ['K'], 529: ['R'], 530: ['N'], 531: ['V'], 532: ['I'], 533: ['P'], 534: ['T'], 535: ['I'], 536: ['T'], 537: ['Q'], 538: ['M'], 539: ['N'], 540: ['L'], 541: ['K'], 542: ['Y'], 543: ['A'], 544: ['I'], 545: ['S'], 546: ['A'], 547: ['K'], 548: ['N'], 549: ['R'], 550: ['A'], 551: ['R'], 552: ['T'], 553: ['V'], 554: ['A'], 555: ['G'], 556: ['V'], 557: ['S'], 558: ['I'], 559: ['C'], 560: ['S'], 561: ['T'], 562: ['M'], 563: ['T'], 564: ['N'], 565: ['R'], 566: ['Q'], 567: ['F'], 568: ['H'], 569: ['Q'], 570: ['K'], 571: ['L'], 572: ['L'], 573: ['K'], 574: ['S'], 575: ['I'], 576: ['A'], 577: ['A'], 578: ['T'], 579: ['R'], 580: ['G'], 581: ['A'], 582: ['T'], 583: ['V'], 584: ['V'], 585: ['I'], 586: ['G'], 587: ['T'], 588: ['S'], 589: ['K'], 590: ['F'], 591: ['Y'], 592: ['G'], 593: ['G'], 594: ['W'], 595: ['H'], 596: ['N'], 597: ['M'], 598: ['L'], 599: ['K'], 600: ['T'], 601: ['V'], 602: ['Y'], 603: ['S'], 604: ['D'], 605: ['V'], 606: ['E'], 607: ['N'], 608: ['P'], 609: ['H'], 610: ['L'], 611: ['M'], 612: ['G'], 613: ['W'], 614: ['D'], 615: ['Y'], 616: ['P'], 617: ['K'], 618: ['C'], 619: ['D'], 620: ['R'], 621: ['A'], 622: ['M'], 623: ['P'], 624: ['N'], 625: ['M'], 626: ['L'], 627: ['R'], 628: ['I'], 629: ['M'], 630: ['A'], 631: ['S'], 632: ['L'], 633: ['V'], 634: ['L'], 635: ['A'], 636: ['R'], 637: ['K'], 638: ['H'], 639: ['T'], 640: ['T'], 641: ['C'], 642: ['C'], 643: ['S'], 644: ['L'], 645: ['S'], 646: ['H'], 647: ['R'], 648: ['F'], 649: ['Y'], 650: ['R'], 651: ['L'], 652: ['A'], 653: ['N'], 654: ['E'], 655: ['C'], 656: ['A'], 657: ['Q'], 658: ['V'], 659: ['L'], 660: ['S'], 661: ['E'], 662: ['M'], 663: ['V'], 664: ['M'], 665: ['C'], 666: ['G'], 667: ['G'], 668: ['S'], 669: ['L'], 670: ['Y'], 671: ['V'], 672: ['K'], 673: ['P'], 674: ['G'], 675: ['G'], 676: ['T'], 677: ['S'], 678: ['S'], 679: ['G'], 680: ['D'], 681: ['A'], 682: ['T'], 683: ['T'], 684: ['A'], 685: ['Y'], 686: ['A'], 687: ['N'], 688: ['S'], 689: ['V'], 690: ['F'], 691: ['N'], 692: ['I'], 693: ['C'], 694: ['Q'], 695: ['A'], 696: ['V'], 697: ['T'], 698: ['A'], 699: ['N'], 700: ['V'], 701: ['N'], 702: ['A'], 703: ['L'], 704: ['L'], 705: ['S'], 706: ['T'], 707: ['D'], 708: ['G'], 709: ['N'], 710: ['K'], 711: ['I'], 712: ['A'], 713: ['D'], 714: ['K'], 715: ['Y'], 716: ['V'], 717: ['R'], 718: ['N'], 719: ['L'], 720: ['Q'], 721: ['H'], 722: ['R'], 723: ['L'], 724: ['Y'], 725: ['E'], 726: ['C'], 727: ['L'], 728: ['Y'], 729: ['R'], 730: ['N'], 731: ['R'], 732: ['D'], 733: ['V'], 734: ['D'], 735: ['T'], 736: ['D'], 737: ['F'], 738: ['V'], 739: ['N'], 740: ['E'], 741: ['F'], 742: ['Y'], 743: ['A'], 744: ['Y'], 745: ['L'], 746: ['R'], 747: ['K'], 748: ['H'], 749: ['F'], 750: ['S'], 751: ['M'], 752: ['M'], 753: ['I'], 754: ['L'], 755: ['S'], 756: ['D'], 757: ['D'], 758: ['A'], 759: ['V'], 760: ['V'], 761: ['C'], 762: ['F'], 763: ['N'], 764: ['S'], 765: ['T'], 766: ['Y'], 767: ['A'], 768: ['S'], 769: ['Q'], 770: ['G'], 771: ['L'], 772: ['V'], 773: ['A'], 774: ['S'], 775: ['I'], 776: ['K'], 777: ['N'], 778: ['F'], 779: ['K'], 780: ['S'], 781: ['V'], 782: ['L'], 783: ['Y'], 784: ['Y'], 785: ['Q'], 786: ['N'], 787: ['N'], 788: ['V'], 789: ['F'], 790: ['M'], 791: ['S'], 792: ['E'], 793: ['A'], 794: ['K'], 795: ['C'], 796: ['W'], 797: ['T'], 798: ['E'], 799: ['T'], 800: ['D'], 801: ['L'], 802: ['T'], 803: ['K'], 804: ['G'], 805: ['P'], 806: ['H'], 807: ['E'], 808: ['F'], 809: ['C'], 810: ['S'], 811: ['Q'], 812: ['H'], 813: ['T'], 814: ['M'], 815: ['L'], 816: ['V'], 817: ['K'], 818: ['Q'], 819: ['G'], 820: ['D'], 821: ['D'], 822: ['Y'], 823: ['V'], 824: ['Y'], 825: ['L'], 826: ['P'], 827: ['Y'], 828: ['P'], 829: ['D'], 830: ['P'], 831: ['S'], 832: ['R'], 833: ['I'], 834: ['L'], 835: ['G'], 836: ['A'], 837: ['G'], 838: ['C'], 839: ['F'], 840: ['V'], 841: ['D'], 842: ['D'], 843: ['I'], 844: ['V'], 845: ['K'], 846: ['T'], 847: ['D'], 848: ['G'], 849: ['T'], 850: ['L'], 851: ['M'], 852: ['I'], 853: ['E'], 854: ['R'], 855: ['F'], 856: ['V'], 857: ['S'], 858: ['L'], 859: ['A'], 860: ['I'], 861: ['D'], 862: ['A'], 863: ['Y'], 864: ['P'], 865: ['L'], 866: ['T'], 867: ['K'], 868: ['H'], 869: ['P'], 870: ['N'], 871: ['Q'], 872: ['E'], 873: ['Y'], 874: ['A'], 875: ['D'], 876: ['V'], 877: ['F'], 878: ['H'], 879: ['L'], 880: ['Y'], 881: ['L'], 882: ['Q'], 883: ['Y'], 884: ['I'], 885: ['R'], 886: ['K'], 887: ['L'], 888: ['H'], 889: ['D'], 890: ['E'], 891: ['L'], 892: ['T'], 893: ['G'], 894: ['H'], 895: ['M'], 896: ['L'], 897: ['D'], 898: ['M'], 899: ['Y'], 900: ['S'], 901: ['V'], 902: ['M'], 903: ['L'], 904: ['T'], 905: ['N'], 906: ['D'], 907: ['N'], 908: ['T'], 909: ['S'], 910: ['R'], 911: ['Y'], 912: ['W'], 913: ['E'], 914: ['P'], 915: ['E'], 916: ['F'], 917: ['Y'], 918: ['E'], 919: ['A'], 920: ['M'], 921: ['Y'], 922: ['T'], 923: ['P'], 924: ['H'], 925: ['T'], 926: ['V'], 927: ['L'], 928: ['Q'], 929: ['A'], 930: ['V'], 931: ['G'], 932: ['A'], 933: ['C'], 934: ['V'], 935: ['L'], 936: ['C'], 937: ['N'], 938: ['S'], 939: ['Q'], 940: ['T'], 941: ['S'], 942: ['L'], 943: ['R'], 944: ['C'], 945: ['G'], 946: ['A'], 947: ['C'], 948: ['I'], 949: ['R'], 950: ['R'], 951: ['P'], 952: ['F'], 953: ['L'], 954: ['C'], 955: ['C'], 956: ['K'], 957: ['C'], 958: ['C'], 959: ['Y'], 960: ['D'], 961: ['H'], 962: ['V'], 963: ['I'], 964: ['S'], 965: ['T'], 966: ['S'], 967: ['H'], 968: ['K'], 969: ['L'], 970: ['V'], 971: ['L'], 972: ['S'], 973: ['V'], 974: ['N'], 975: ['P'], 976: ['Y'], 977: ['V'], 978: ['C'], 979: ['N'], 980: ['A'], 981: ['P'], 982: ['G'], 983: ['C'], 984: ['D'], 985: ['V'], 986: ['T'], 987: ['D'], 988: ['V'], 989: ['T'], 990: ['Q'], 991: ['L'], 992: ['Y'], 993: ['L'], 994: ['G'], 995: ['G'], 996: ['M'], 997: ['S'], 998: ['Y'], 999: ['Y'], 1000: ['C'], 1001: ['K'], 1002: ['S'], 1003: ['H'], 1004: ['K'], 1005: ['P'], 1006: ['P'], 1007: ['I'], 1008: ['S'], 1009: ['F'], 1010: ['P'], 1011: ['L'], 1012: ['C'], 1013: ['A'], 1014: ['N'], 1015: ['G'], 1016: ['Q'], 1017: ['V'], 1018: ['F'], 1019: ['G'], 1020: ['L'], 1021: ['Y'], 1022: ['K'], 1023: ['N'], 1024: ['T'], 1025: ['C'], 1026: ['V'], 1027: ['G'], 1028: ['S'], 1029: ['D'], 1030: ['N'], 1031: ['V'], 1032: ['T'], 1033: ['D'], 1034: ['F'], 1035: ['N'], 1036: ['A'], 1037: ['I'], 1038: ['A'], 1039: ['T'], 1040: ['C'], 1041: ['D'], 1042: ['W'], 1043: ['T'], 1044: ['N'], 1045: ['A'], 1046: ['G'], 1047: ['D'], 1048: ['Y'], 1049: ['I'], 1050: ['L'], 1051: ['A'], 1052: ['N'], 1053: ['T'], 1054: ['C'], 1055: ['T'], 1056: ['E'], 1057: ['R'], 1058: ['L'], 1059: ['K'], 1060: ['L'], 1061: ['F'], 1062: ['A'], 1063: ['A'], 1064: ['E'], 1065: ['T'], 1066: ['L'], 1067: ['K'], 1068: ['A'], 1069: ['T'], 1070: ['E'], 1071: ['E'], 1072: ['T'], 1073: ['F'], 1074: ['K'], 1075: ['L'], 1076: ['S'], 1077: ['Y'], 1078: ['G'], 1079: ['I'], 1080: ['A'], 1081: ['T'], 1082: ['V'], 1083: ['R'], 1084: ['E'], 1085: ['V'], 1086: ['L'], 1087: ['S'], 1088: ['D'], 1089: ['R'], 1090: ['E'], 1091: ['L'], 1092: ['H'], 1093: ['L'], 1094: ['S'], 1095: ['W'], 1096: ['E'], 1097: ['V'], 1098: ['G'], 1099: ['K'], 1100: ['P'], 1101: ['R'], 1102: ['P'], 1103: ['P'], 1104: ['L'], 1105: ['N'], 1106: ['R'], 1107: ['N'], 1108: ['Y'], 1109: ['V'], 1110: ['F'], 1111: ['T'], 1112: ['G'], 1113: ['Y'], 1114: ['R'], 1115: ['V'], 1116: ['T'], 1117: ['K'], 1118: ['N'], 1119: ['S'], 1120: ['K'], 1121: ['V'], 1122: ['Q'], 1123: ['I'], 1124: ['G'], 1125: ['E'], 1126: ['Y'], 1127: ['T'], 1128: ['F'], 1129: ['E'], 1130: ['K'], 1131: ['G'], 1132: ['D'], 1133: ['Y'], 1134: ['G'], 1135: ['D'], 1136: ['A'], 1137: ['V'], 1138: ['V'], 1139: ['Y'], 1140: ['R'], 1141: ['G'], 1142: ['T'], 1143: ['T'], 1144: ['T'], 1145: ['Y'], 1146: ['K'], 1147: ['L'], 1148: ['N'], 1149: ['V'], 1150: ['G'], 1151: ['D'], 1152: ['Y'], 1153: ['F'], 1154: ['V'], 1155: ['L'], 1156: ['T'], 1157: ['S'], 1158: ['H'], 1159: ['T'], 1160: ['V'], 1161: ['M'], 1162: ['P'], 1163: ['L'], 1164: ['S'], 1165: ['A'], 1166: ['P'], 1167: ['T'], 1168: ['L'], 1169: ['V'], 1170: ['P'], 1171: ['Q'], 1172: ['E'], 1173: ['H'], 1174: ['Y'], 1175: ['V'], 1176: ['R'], 1177: ['I'], 1178: ['T'], 1179: ['G'], 1180: ['L'], 1181: ['Y'], 1182: ['P'], 1183: ['T'], 1184: ['L'], 1185: ['N'], 1186: ['I'], 1187: ['S'], 1188: ['D'], 1189: ['E'], 1190: ['F'], 1191: ['S'], 1192: ['S'], 1193: ['N'], 1194: ['V'], 1195: ['A'], 1196: ['N'], 1197: ['Y'], 1198: ['Q'], 1199: ['K'], 1200: ['V'], 1201: ['G'], 1202: ['M'], 1203: ['Q'], 1204: ['K'], 1205: ['Y'], 1206: ['S'], 1207: ['T'], 1208: ['L'], 1209: ['Q'], 1210: ['G'], 1211: ['P'], 1212: ['P'], 1213: ['G'], 1214: ['T'], 1215: ['G'], 1216: ['K'], 1217: ['S'], 1218: ['H'], 1219: ['F'], 1220: ['A'], 1221: ['I'], 1222: ['G'], 1223: ['L'], 1224: ['A'], 1225: ['L'], 1226: ['Y'], 1227: ['Y'], 1228: ['P'], 1229: ['S'], 1230: ['A'], 1231: ['R'], 1232: ['I'], 1233: ['V'], 1234: ['Y'], 1235: ['T'], 1236: ['A'], 1237: ['C'], 1238: ['S'], 1239: ['H'], 1240: ['A'], 1241: ['A'], 1242: ['V'], 1243: ['D'], 1244: ['A'], 1245: ['L'], 1246: ['C'], 1247: ['E'], 1248: ['K'], 1249: ['A'], 1250: ['L'], 1251: ['K'], 1252: ['Y'], 1253: ['L'], 1254: ['P'], 1255: ['I'], 1256: ['D'], 1257: ['K'], 1258: ['C'], 1259: ['S'], 1260: ['R'], 1261: ['I'], 1262: ['I'], 1263: ['P'], 1264: ['A'], 1265: ['R'], 1266: ['A'], 1267: ['R'], 1268: ['V'], 1269: ['E'], 1270: ['C'], 1271: ['F'], 1272: ['D'], 1273: ['K'], 1274: ['F'], 1275: ['K'], 1276: ['V'], 1277: ['N'], 1278: ['S'], 1279: ['T'], 1280: ['L'], 1281: ['E'], 1282: ['Q'], 1283: ['Y'], 1284: ['V'], 1285: ['F'], 1286: ['C'], 1287: ['T'], 1288: ['V'], 1289: ['N'], 1290: ['A'], 1291: ['L'], 1292: ['P'], 1293: ['E'], 1294: ['T'], 1295: ['T'], 1296: ['A'], 1297: ['D'], 1298: ['I'], 1299: ['V'], 1300: ['V'], 1301: ['F'], 1302: ['D'], 1303: ['E'], 1304: ['I'], 1305: ['S'], 1306: ['M'], 1307: ['A'], 1308: ['T'], 1309: ['N'], 1310: ['Y'], 1311: ['D'], 1312: ['L'], 1313: ['S'], 1314: ['V'], 1315: ['V'], 1316: ['N'], 1317: ['A'], 1318: ['R'], 1319: ['L'], 1320: ['R'], 1321: ['A'], 1322: ['K'], 1323: ['H'], 1324: ['Y'], 1325: ['V'], 1326: ['Y'], 1327: ['I'], 1328: ['G'], 1329: ['D'], 1330: ['P'], 1331: ['A'], 1332: ['Q'], 1333: ['L'], 1334: ['P'], 1335: ['A'], 1336: ['P'], 1337: ['R'], 1338: ['T'], 1339: ['L'], 1340: ['L'], 1341: ['T'], 1342: ['K'], 1343: ['G'], 1344: ['T'], 1345: ['L'], 1346: ['E'], 1347: ['P'], 1348: ['E'], 1349: ['Y'], 1350: ['F'], 1351: ['N'], 1352: ['S'], 1353: ['V'], 1354: ['C'], 1355: ['R'], 1356: ['L'], 1357: ['M'], 1358: ['K'], 1359: ['T'], 1360: ['I'], 1361: ['G'], 1362: ['P'], 1363: ['D'], 1364: ['M'], 1365: ['F'], 1366: ['L'], 1367: ['G'], 1368: ['T'], 1369: ['C'], 1370: ['R'], 1371: ['R'], 1372: ['C'], 1373: ['P'], 1374: ['A'], 1375: ['E'], 1376: ['I'], 1377: ['V'], 1378: ['D'], 1379: ['T'], 1380: ['V'], 1381: ['S'], 1382: ['A'], 1383: ['L'], 1384: ['V'], 1385: ['Y'], 1386: ['D'], 1387: ['N'], 1388: ['K'], 1389: ['L'], 1390: ['K'], 1391: ['A'], 1392: ['H'], 1393: ['K'], 1394: ['D'], 1395: ['K'], 1396: ['S'], 1397: ['A'], 1398: ['Q'], 1399: ['C'], 1400: ['F'], 1401: ['K'], 1402: ['M'], 1403: ['F'], 1404: ['Y'], 1405: ['K'], 1406: ['G'], 1407: ['V'], 1408: ['I'], 1409: ['T'], 1410: ['H'], 1411: ['D'], 1412: ['V'], 1413: ['S'], 1414: ['S'], 1415: ['A'], 1416: ['I'], 1417: ['N'], 1418: ['R'], 1419: ['P'], 1420: ['Q'], 1421: ['I'], 1422: ['G'], 1423: ['V'], 1424: ['V'], 1425: ['R'], 1426: ['E'], 1427: ['F'], 1428: ['L'], 1429: ['T'], 1430: ['R'], 1431: ['N'], 1432: ['P'], 1433: ['A'], 1434: ['W'], 1435: ['R'], 1436: ['K'], 1437: ['A'], 1438: ['V'], 1439: ['F'], 1440: ['I'], 1441: ['S'], 1442: ['P'], 1443: ['Y'], 1444: ['N'], 1445: ['S'], 1446: ['Q'], 1447: ['N'], 1448: ['A'], 1449: ['V'], 1450: ['A'], 1451: ['S'], 1452: ['K'], 1453: ['I'], 1454: ['L'], 1455: ['G'], 1456: ['L'], 1457: ['P'], 1458: ['T'], 1459: ['Q'], 1460: ['T'], 1461: ['V'], 1462: ['D'], 1463: ['S'], 1464: ['S'], 1465: ['Q'], 1466: ['G'], 1467: ['S'], 1468: ['E'], 1469: ['Y'], 1470: ['D'], 1471: ['Y'], 1472: ['V'], 1473: ['I'], 1474: ['F'], 1475: ['T'], 1476: ['Q'], 1477: ['T'], 1478: ['T'], 1479: ['E'], 1480: ['T'], 1481: ['A'], 1482: ['H'], 1483: ['S'], 1484: ['C'], 1485: ['N'], 1486: ['V'], 1487: ['N'], 1488: ['R'], 1489: ['F'], 1490: ['N'], 1491: ['V'], 1492: ['A'], 1493: ['I'], 1494: ['T'], 1495: ['R'], 1496: ['A'], 1497: ['K'], 1498: ['V'], 1499: ['G'], 1500: ['I'], 1501: ['L'], 1502: ['C'], 1503: ['I'], 1504: ['M'], 1505: ['S'], 1506: ['D'], 1507: ['R'], 1508: ['D'], 1509: ['L'], 1510: ['Y'], 1511: ['D'], 1512: ['K'], 1513: ['L'], 1514: ['Q'], 1515: ['F'], 1516: ['T'], 1517: ['S'], 1518: ['L'], 1519: ['E'], 1520: ['I'], 1521: ['P'], 1522: ['R'], 1523: ['R'], 1524: ['N'], 1525: ['V'], 1526: ['A'], 1527: ['T'], 1528: ['L'], 1529: ['Q'], 1530: ['A'], 1531: ['E'], 1532: ['N'], 1533: ['V'], 1534: ['T'], 1535: ['G'], 1536: ['L'], 1537: ['F'], 1538: ['K'], 1539: ['D'], 1540: ['C'], 1541: ['S'], 1542: ['K'], 1543: ['V'], 1544: ['I'], 1545: ['T'], 1546: ['G'], 1547: ['L'], 1548: ['H'], 1549: ['P'], 1550: ['T'], 1551: ['Q'], 1552: ['A'], 1553: ['P'], 1554: ['T'], 1555: ['H'], 1556: ['L'], 1557: ['S'], 1558: ['V'], 1559: ['D'], 1560: ['T'], 1561: ['K'], 1562: ['F'], 1563: ['K'], 1564: ['T'], 1565: ['E'], 1566: ['G'], 1567: ['L'], 1568: ['C'], 1569: ['V'], 1570: ['D'], 1571: ['I'], 1572: ['P'], 1573: ['G'], 1574: ['I'], 1575: ['P'], 1576: ['K'], 1577: ['D'], 1578: ['M'], 1579: ['T'], 1580: ['Y'], 1581: ['R'], 1582: ['R'], 1583: ['L'], 1584: ['I'], 1585: ['S'], 1586: ['M'], 1587: ['M'], 1588: ['G'], 1589: ['F'], 1590: ['K'], 1591: ['M'], 1592: ['N'], 1593: ['Y'], 1594: ['Q'], 1595: ['V'], 1596: ['N'], 1597: ['G'], 1598: ['Y'], 1599: ['P'], 1600: ['N'], 1601: ['M'], 1602: ['F'], 1603: ['I'], 1604: ['T'], 1605: ['R'], 1606: ['E'], 1607: ['E'], 1608: ['A'], 1609: ['I'], 1610: ['R'], 1611: ['H'], 1612: ['V'], 1613: ['R'], 1614: ['A'], 1615: ['W'], 1616: ['I'], 1617: ['G'], 1618: ['F'], 1619: ['D'], 1620: ['V'], 1621: ['E'], 1622: ['G'], 1623: ['C'], 1624: ['H'], 1625: ['A'], 1626: ['T'], 1627: ['R'], 1628: ['E'], 1629: ['A'], 1630: ['V'], 1631: ['G'], 1632: ['T'], 1633: ['N'], 1634: ['L'], 1635: ['P'], 1636: ['L'], 1637: ['Q'], 1638: ['L'], 1639: ['G'], 1640: ['F'], 1641: ['S'], 1642: ['T'], 1643: ['G'], 1644: ['V'], 1645: ['N'], 1646: ['L'], 1647: ['V'], 1648: ['A'], 1649: ['V'], 1650: ['P'], 1651: ['T'], 1652: ['G'], 1653: ['Y'], 1654: ['V'], 1655: ['D'], 1656: ['T'], 1657: ['P'], 1658: ['N'], 1659: ['N'], 1660: ['T'], 1661: ['D'], 1662: ['F'], 1663: ['S'], 1664: ['R'], 1665: ['V'], 1666: ['S'], 1667: ['A'], 1668: ['K'], 1669: ['P'], 1670: ['P'], 1671: ['P'], 1672: ['G'], 1673: ['D'], 1674: ['Q'], 1675: ['F'], 1676: ['K'], 1677: ['H'], 1678: ['L'], 1679: ['I'], 1680: ['P'], 1681: ['L'], 1682: ['M'], 1683: ['Y'], 1684: ['K'], 1685: ['G'], 1686: ['L'], 1687: ['P'], 1688: ['W'], 1689: ['N'], 1690: ['V'], 1691: ['V'], 1692: ['R'], 1693: ['I'], 1694: ['K'], 1695: ['I'], 1696: ['V'], 1697: ['Q'], 1698: ['M'], 1699: ['L'], 1700: ['S'], 1701: ['D'], 1702: ['T'], 1703: ['L'], 1704: ['K'], 1705: ['N'], 1706: ['L'], 1707: ['S'], 1708: ['D'], 1709: ['R'], 1710: ['V'], 1711: ['V'], 1712: ['F'], 1713: ['V'], 1714: ['L'], 1715: ['W'], 1716: ['A'], 1717: ['H'], 1718: ['G'], 1719: ['F'], 1720: ['E'], 1721: ['L'], 1722: ['T'], 1723: ['S'], 1724: ['M'], 1725: ['K'], 1726: ['Y'], 1727: ['F'], 1728: ['V'], 1729: ['K'], 1730: ['I'], 1731: ['G'], 1732: ['P'], 1733: ['E'], 1734: ['R'], 1735: ['T'], 1736: ['C'], 1737: ['C'], 1738: ['L'], 1739: ['C'], 1740: ['D'], 1741: ['R'], 1742: ['R'], 1743: ['A'], 1744: ['T'], 1745: ['C'], 1746: ['F'], 1747: ['S'], 1748: ['T'], 1749: ['A'], 1750: ['S'], 1751: ['D'], 1752: ['T'], 1753: ['Y'], 1754: ['A'], 1755: ['C'], 1756: ['W'], 1757: ['H'], 1758: ['H'], 1759: ['S'], 1760: ['I'], 1761: ['G'], 1762: ['F'], 1763: ['D'], 1764: ['Y'], 1765: ['V'], 1766: ['Y'], 1767: ['N'], 1768: ['P'], 1769: ['F'], 1770: ['M'], 1771: ['I'], 1772: ['D'], 1773: ['V'], 1774: ['Q'], 1775: ['Q'], 1776: ['W'], 1777: ['G'], 1778: ['F'], 1779: ['T'], 1780: ['G'], 1781: ['N'], 1782: ['L'], 1783: ['Q'], 1784: ['S'], 1785: ['N'], 1786: ['H'], 1787: ['D'], 1788: ['L'], 1789: ['Y'], 1790: ['C'], 1791: ['Q'], 1792: ['V'], 1793: ['H'], 1794: ['G'], 1795: ['N'], 1796: ['A'], 1797: ['H'], 1798: ['V'], 1799: ['A'], 1800: ['S'], 1801: ['C'], 1802: ['D'], 1803: ['A'], 1804: ['I'], 1805: ['M'], 1806: ['T'], 1807: ['R'], 1808: ['C'], 1809: ['L'], 1810: ['A'], 1811: ['V'], 1812: ['H'], 1813: ['E'], 1814: ['C'], 1815: ['F'], 1816: ['V'], 1817: ['K'], 1818: ['R'], 1819: ['V'], 1820: ['D'], 1821: ['W'], 1822: ['T'], 1823: ['I'], 1824: ['E'], 1825: ['Y'], 1826: ['P'], 1827: ['I'], 1828: ['I'], 1829: ['G'], 1830: ['D'], 1831: ['E'], 1832: ['L'], 1833: ['K'], 1834: ['I'], 1835: ['N'], 1836: ['A'], 1837: ['A'], 1838: ['C'], 1839: ['R'], 1840: ['K'], 1841: ['V'], 1842: ['Q'], 1843: ['H'], 1844: ['M'], 1845: ['V'], 1846: ['V'], 1847: ['K'], 1848: ['A'], 1849: ['A'], 1850: ['L'], 1851: ['L'], 1852: ['A'], 1853: ['D'], 1854: ['K'], 1855: ['F'], 1856: ['P'], 1857: ['V'], 1858: ['L'], 1859: ['H'], 1860: ['D'], 1861: ['I'], 1862: ['G'], 1863: ['N'], 1864: ['P'], 1865: ['K'], 1866: ['A'], 1867: ['I'], 1868: ['K'], 1869: ['C'], 1870: ['V'], 1871: ['P'], 1872: ['Q'], 1873: ['A'], 1874: ['D'], 1875: ['V'], 1876: ['E'], 1877: ['W'], 1878: ['K'], 1879: ['F'], 1880: ['Y'], 1881: ['D'], 1882: ['A'], 1883: ['Q'], 1884: ['P'], 1885: ['C'], 1886: ['S'], 1887: ['D'], 1888: ['K'], 1889: ['A'], 1890: ['Y'], 1891: ['K'], 1892: ['I'], 1893: ['E'], 1894: ['E'], 1895: ['L'], 1896: ['F'], 1897: ['Y'], 1898: ['S'], 1899: ['Y'], 1900: ['A'], 1901: ['T'], 1902: ['H'], 1903: ['S'], 1904: ['D'], 1905: ['K'], 1906: ['F'], 1907: ['T'], 1908: ['D'], 1909: ['G'], 1910: ['V'], 1911: ['C'], 1912: ['L'], 1913: ['F'], 1914: ['W'], 1915: ['N'], 1916: ['C'], 1917: ['N'], 1918: ['V'], 1919: ['D'], 1920: ['R'], 1921: ['Y'], 1922: ['P'], 1923: ['A'], 1924: ['N'], 1925: ['S'], 1926: ['I'], 1927: ['V'], 1928: ['C'], 1929: ['R'], 1930: ['F'], 1931: ['D'], 1932: ['T'], 1933: ['R'], 1934: ['V'], 1935: ['L'], 1936: ['S'], 1937: ['N'], 1938: ['L'], 1939: ['N'], 1940: ['L'], 1941: ['P'], 1942: ['G'], 1943: ['C'], 1944: ['D'], 1945: ['G'], 1946: ['G'], 1947: ['S'], 1948: ['L'], 1949: ['Y'], 1950: ['V'], 1951: ['N'], 1952: ['K'], 1953: ['H'], 1954: ['A'], 1955: ['F'], 1956: ['H'], 1957: ['T'], 1958: ['P'], 1959: ['A'], 1960: ['F'], 1961: ['D'], 1962: ['K'], 1963: ['S'], 1964: ['A'], 1965: ['F'], 1966: ['V'], 1967: ['N'], 1968: ['L'], 1969: ['K'], 1970: ['Q'], 1971: ['L'], 1972: ['P'], 1973: ['F'], 1974: ['F'], 1975: ['Y'], 1976: ['Y'], 1977: ['S'], 1978: ['D'], 1979: ['S'], 1980: ['P'], 1981: ['C'], 1982: ['E'], 1983: ['S'], 1984: ['H'], 1985: ['G'], 1986: ['K'], 1987: ['Q'], 1988: ['V'], 1989: ['V'], 1990: ['S'], 1991: ['D'], 1992: ['I'], 1993: ['D'], 1994: ['Y'], 1995: ['V'], 1996: ['P'], 1997: ['L'], 1998: ['K'], 1999: ['S'], 2000: ['A'], 2001: ['T'], 2002: ['C'], 2003: ['I'], 2004: ['T'], 2005: ['R'], 2006: ['C'], 2007: ['N'], 2008: ['L'], 2009: ['G'], 2010: ['G'], 2011: ['A'], 2012: ['V'], 2013: ['C'], 2014: ['R'], 2015: ['H'], 2016: ['H'], 2017: ['A'], 2018: ['N'], 2019: ['E'], 2020: ['Y'], 2021: ['R'], 2022: ['L'], 2023: ['Y'], 2024: ['L'], 2025: ['D'], 2026: ['A'], 2027: ['Y'], 2028: ['N'], 2029: ['M'], 2030: ['M'], 2031: ['I'], 2032: ['S'], 2033: ['A'], 2034: ['G'], 2035: ['F'], 2036: ['S'], 2037: ['L'], 2038: ['W'], 2039: ['V'], 2040: ['Y'], 2041: ['K'], 2042: ['Q'], 2043: ['F'], 2044: ['D'], 2045: ['T'], 2046: ['Y'], 2047: ['N'], 2048: ['L'], 2049: ['W'], 2050: ['N'], 2051: ['T'], 2052: ['F'], 2053: ['T'], 2054: ['R'], 2055: ['L'], 2056: ['Q'], 2057: ['S'], 2058: ['L'], 2059: ['E'], 2060: ['N'], 2061: ['V'], 2062: ['A'], 2063: ['F'], 2064: ['N'], 2065: ['V'], 2066: ['V'], 2067: ['N'], 2068: ['K'], 2069: ['G'], 2070: ['H'], 2071: ['F'], 2072: ['D'], 2073: ['G'], 2074: ['Q'], 2075: ['Q'], 2076: ['G'], 2077: ['E'], 2078: ['V'], 2079: ['P'], 2080: ['V'], 2081: ['S'], 2082: ['I'], 2083: ['I'], 2084: ['N'], 2085: ['N'], 2086: ['T'], 2087: ['V'], 2088: ['Y'], 2089: ['T'], 2090: ['K'], 2091: ['V'], 2092: ['D'], 2093: ['G'], 2094: ['V'], 2095: ['D'], 2096: ['V'], 2097: ['E'], 2098: ['L'], 2099: ['F'], 2100: ['E'], 2101: ['N'], 2102: ['K'], 2103: ['T'], 2104: ['T'], 2105: ['L'], 2106: ['P'], 2107: ['V'], 2108: ['N'], 2109: ['V'], 2110: ['A'], 2111: ['F'], 2112: ['E'], 2113: ['L'], 2114: ['W'], 2115: ['A'], 2116: ['K'], 2117: ['R'], 2118: ['N'], 2119: ['I'], 2120: ['K'], 2121: ['P'], 2122: ['V'], 2123: ['P'], 2124: ['E'], 2125: ['V'], 2126: ['K'], 2127: ['I'], 2128: ['L'], 2129: ['N'], 2130: ['N'], 2131: ['L'], 2132: ['G'], 2133: ['V'], 2134: ['D'], 2135: ['I'], 2136: ['A'], 2137: ['A'], 2138: ['N'], 2139: ['T'], 2140: ['V'], 2141: ['I'], 2142: ['W'], 2143: ['D'], 2144: ['Y'], 2145: ['K'], 2146: ['R'], 2147: ['D'], 2148: ['A'], 2149: ['P'], 2150: ['A'], 2151: ['H'], 2152: ['I'], 2153: ['S'], 2154: ['T'], 2155: ['I'], 2156: ['G'], 2157: ['V'], 2158: ['C'], 2159: ['S'], 2160: ['M'], 2161: ['T'], 2162: ['D'], 2163: ['I'], 2164: ['A'], 2165: ['K'], 2166: ['K'], 2167: ['P'], 2168: ['T'], 2169: ['E'], 2170: ['T'], 2171: ['I'], 2172: ['C'], 2173: ['A'], 2174: ['P'], 2175: ['L'], 2176: ['T'], 2177: ['V'], 2178: ['F'], 2179: ['F'], 2180: ['D'], 2181: ['G'], 2182: ['R'], 2183: ['V'], 2184: ['D'], 2185: ['G'], 2186: ['Q'], 2187: ['V'], 2188: ['D'], 2189: ['L'], 2190: ['F'], 2191: ['R'], 2192: ['N'], 2193: ['A'], 2194: ['R'], 2195: ['N'], 2196: ['G'], 2197: ['V'], 2198: ['L'], 2199: ['I'], 2200: ['T'], 2201: ['E'], 2202: ['G'], 2203: ['S'], 2204: ['V'], 2205: ['K'], 2206: ['G'], 2207: ['L'], 2208: ['Q'], 2209: ['P'], 2210: ['S'], 2211: ['V'], 2212: ['G'], 2213: ['P'], 2214: ['K'], 2215: ['Q'], 2216: ['A'], 2217: ['S'], 2218: ['L'], 2219: ['N'], 2220: ['G'], 2221: ['V'], 2222: ['T'], 2223: ['L'], 2224: ['I'], 2225: ['G'], 2226: ['E'], 2227: ['A'], 2228: ['V'], 2229: ['K'], 2230: ['T'], 2231: ['Q'], 2232: ['F'], 2233: ['N'], 2234: ['Y'], 2235: ['Y'], 2236: ['K'], 2237: ['K'], 2238: ['V'], 2239: ['D'], 2240: ['G'], 2241: ['V'], 2242: ['V'], 2243: ['Q'], 2244: ['Q'], 2245: ['L'], 2246: ['P'], 2247: ['E'], 2248: ['T'], 2249: ['Y'], 2250: ['F'], 2251: ['T'], 2252: ['Q'], 2253: ['S'], 2254: ['R'], 2255: ['N'], 2256: ['L'], 2257: ['Q'], 2258: ['E'], 2259: ['F'], 2260: ['K'], 2261: ['P'], 2262: ['R'], 2263: ['S'], 2264: ['Q'], 2265: ['M'], 2266: ['E'], 2267: ['I'], 2268: ['D'], 2269: ['F'], 2270: ['L'], 2271: ['E'], 2272: ['L'], 2273: ['A'], 2274: ['M'], 2275: ['D'], 2276: ['E'], 2277: ['F'], 2278: ['I'], 2279: ['E'], 2280: ['R'], 2281: ['Y'], 2282: ['K'], 2283: ['L'], 2284: ['E'], 2285: ['G'], 2286: ['Y'], 2287: ['A'], 2288: ['F'], 2289: ['E'], 2290: ['H'], 2291: ['I'], 2292: ['V'], 2293: ['Y'], 2294: ['G'], 2295: ['D'], 2296: ['F'], 2297: ['S'], 2298: ['H'], 2299: ['S'], 2300: ['Q'], 2301: ['L'], 2302: ['G'], 2303: ['G'], 2304: ['L'], 2305: ['H'], 2306: ['L'], 2307: ['L'], 2308: ['I'], 2309: ['G'], 2310: ['L'], 2311: ['A'], 2312: ['K'], 2313: ['R'], 2314: ['F'], 2315: ['K'], 2316: ['E'], 2317: ['S'], 2318: ['P'], 2319: ['F'], 2320: ['E'], 2321: ['L'], 2322: ['E'], 2323: ['D'], 2324: ['F'], 2325: ['I'], 2326: ['P'], 2327: ['M'], 2328: ['D'], 2329: ['S'], 2330: ['T'], 2331: ['V'], 2332: ['K'], 2333: ['N'], 2334: ['Y'], 2335: ['F'], 2336: ['I'], 2337: ['T'], 2338: ['D'], 2339: ['A'], 2340: ['Q'], 2341: ['T'], 2342: ['G'], 2343: ['S'], 2344: ['S'], 2345: ['K'], 2346: ['C'], 2347: ['V'], 2348: ['C'], 2349: ['S'], 2350: ['V'], 2351: ['I'], 2352: ['D'], 2353: ['L'], 2354: ['L'], 2355: ['L'], 2356: ['D'], 2357: ['D'], 2358: ['F'], 2359: ['V'], 2360: ['E'], 2361: ['I'], 2362: ['I'], 2363: ['K'], 2364: ['S'], 2365: ['Q'], 2366: ['D'], 2367: ['L'], 2368: ['S'], 2369: ['V'], 2370: ['V'], 2371: ['S'], 2372: ['K'], 2373: ['V'], 2374: ['V'], 2375: ['K'], 2376: ['V'], 2377: ['T'], 2378: ['I'], 2379: ['D'], 2380: ['Y'], 2381: ['T'], 2382: ['E'], 2383: ['I'], 2384: ['S'], 2385: ['F'], 2386: ['M'], 2387: ['L'], 2388: ['W'], 2389: ['C'], 2390: ['K'], 2391: ['D'], 2392: ['G'], 2393: ['H'], 2394: ['V'], 2395: ['E'], 2396: ['T'], 2397: ['F'], 2398: ['Y'], 2399: ['P'], 2400: ['K'], 2401: ['L'], 2402: ['Q'], 2403: ['S'], 2404: ['S'], 2405: ['Q'], 2406: ['A'], 2407: ['W'], 2408: ['Q'], 2409: ['P'], 2410: ['G'], 2411: ['V'], 2412: ['A'], 2413: ['M'], 2414: ['P'], 2415: ['N'], 2416: ['L'], 2417: ['Y'], 2418: ['K'], 2419: ['M'], 2420: ['Q'], 2421: ['R'], 2422: ['M'], 2423: ['L'], 2424: ['L'], 2425: ['E'], 2426: ['K'], 2427: ['C'], 2428: ['D'], 2429: ['L'], 2430: ['Q'], 2431: ['N'], 2432: ['Y'], 2433: ['G'], 2434: ['D'], 2435: ['S'], 2436: ['A'], 2437: ['T'], 2438: ['L'], 2439: ['P'], 2440: ['K'], 2441: ['G'], 2442: ['I'], 2443: ['M'], 2444: ['M'], 2445: ['N'], 2446: ['V'], 2447: ['A'], 2448: ['K'], 2449: ['Y'], 2450: ['T'], 2451: ['Q'], 2452: ['L'], 2453: ['C'], 2454: ['Q'], 2455: ['Y'], 2456: ['L'], 2457: ['N'], 2458: ['T'], 2459: ['L'], 2460: ['T'], 2461: ['L'], 2462: ['A'], 2463: ['V'], 2464: ['P'], 2465: ['Y'], 2466: ['N'], 2467: ['M'], 2468: ['R'], 2469: ['V'], 2470: ['I'], 2471: ['H'], 2472: ['F'], 2473: ['G'], 2474: ['A'], 2475: ['G'], 2476: ['S'], 2477: ['D'], 2478: ['K'], 2479: ['G'], 2480: ['V'], 2481: ['A'], 2482: ['P'], 2483: ['G'], 2484: ['T'], 2485: ['A'], 2486: ['V'], 2487: ['L'], 2488: ['R'], 2489: ['Q'], 2490: ['W'], 2491: ['L'], 2492: ['P'], 2493: ['T'], 2494: ['G'], 2495: ['T'], 2496: ['L'], 2497: ['L'], 2498: ['V'], 2499: ['D'], 2500: ['S'], 2501: ['D'], 2502: ['L'], 2503: ['N'], 2504: ['D'], 2505: ['F'], 2506: ['V'], 2507: ['S'], 2508: ['D'], 2509: ['A'], 2510: ['D'], 2511: ['S'], 2512: ['T'], 2513: ['L'], 2514: ['I'], 2515: ['G'], 2516: ['D'], 2517: ['C'], 2518: ['A'], 2519: ['T'], 2520: ['V'], 2521: ['H'], 2522: ['T'], 2523: ['A'], 2524: ['N'], 2525: ['K'], 2526: ['W'], 2527: ['D'], 2528: ['L'], 2529: ['I'], 2530: ['I'], 2531: ['S'], 2532: ['D'], 2533: ['M'], 2534: ['Y'], 2535: ['D'], 2536: ['P'], 2537: ['K'], 2538: ['T'], 2539: ['K'], 2540: ['N'], 2541: ['V'], 2542: ['T'], 2543: ['K'], 2544: ['E'], 2545: ['N'], 2546: ['D'], 2547: ['S'], 2548: ['K'], 2549: ['E'], 2550: ['G'], 2551: ['F'], 2552: ['F'], 2553: ['T'], 2554: ['Y'], 2555: ['I'], 2556: ['C'], 2557: ['G'], 2558: ['F'], 2559: ['I'], 2560: ['Q'], 2561: ['Q'], 2562: ['K'], 2563: ['L'], 2564: ['A'], 2565: ['L'], 2566: ['G'], 2567: ['G'], 2568: ['S'], 2569: ['V'], 2570: ['A'], 2571: ['I'], 2572: ['K'], 2573: ['I'], 2574: ['T'], 2575: ['E'], 2576: ['H'], 2577: ['S'], 2578: ['W'], 2579: ['N'], 2580: ['A'], 2581: ['D'], 2582: ['L'], 2583: ['Y'], 2584: ['K'], 2585: ['L'], 2586: ['M'], 2587: ['G'], 2588: ['H'], 2589: ['F'], 2590: ['A'], 2591: ['W'], 2592: ['W'], 2593: ['T'], 2594: ['A'], 2595: ['F'], 2596: ['V'], 2597: ['T'], 2598: ['N'], 2599: ['V'], 2600: ['N'], 2601: ['A'], 2602: ['S'], 2603: ['S'], 2604: ['S'], 2605: ['E'], 2606: ['A'], 2607: ['F'], 2608: ['L'], 2609: ['I'], 2610: ['G'], 2611: ['C'], 2612: ['N'], 2613: ['Y'], 2614: ['L'], 2615: ['G'], 2616: ['K'], 2617: ['P'], 2618: ['R'], 2619: ['E'], 2620: ['Q'], 2621: ['I'], 2622: ['D'], 2623: ['G'], 2624: ['Y'], 2625: ['V'], 2626: ['M'], 2627: ['H'], 2628: ['A'], 2629: ['N'], 2630: ['Y'], 2631: ['I'], 2632: ['F'], 2633: ['W'], 2634: ['R'], 2635: ['N'], 2636: ['T'], 2637: ['N'], 2638: ['P'], 2639: ['I'], 2640: ['Q'], 2641: ['L'], 2642: ['S'], 2643: ['S'], 2644: ['Y'], 2645: ['S'], 2646: ['L'], 2647: ['F'], 2648: ['D'], 2649: ['M'], 2650: ['S'], 2651: ['K'], 2652: ['F'], 2653: ['P'], 2654: ['L'], 2655: ['K'], 2656: ['L'], 2657: ['R'], 2658: ['G'], 2659: ['T'], 2660: ['A'], 2661: ['V'], 2662: ['M'], 2663: ['S'], 2664: ['L'], 2665: ['K'], 2666: ['E'], 2667: ['G'], 2668: ['Q'], 2669: ['I'], 2670: ['N'], 2671: ['D'], 2672: ['M'], 2673: ['I'], 2674: ['L'], 2675: ['S'], 2676: ['L'], 2677: ['L'], 2678: ['S'], 2679: ['K'], 2680: ['G'], 2681: ['R'], 2682: ['L'], 2683: ['I'], 2684: ['I'], 2685: ['R'], 2686: ['E'], 2687: ['N'], 2688: ['N'], 2689: ['R'], 2690: ['V'], 2691: ['V'], 2692: ['I'], 2693: ['S'], 2694: ['S'], 2695: ['D'], 2696: ['V'], 2697: ['L'], 2698: ['V'], 2699: ['N'], 2700: ['N']}\n"
     ]
    }
   ],
   "source": [
    "sequences = list(sequence.seq)\n",
    "dataset = {}\n",
    "\n",
    "\n",
    "for i, seq in enumerate(sequence.seq):\n",
    "    \n",
    "    # splited into nucleotides, removed tab characters\n",
    "    nucleotides = list(seq)\n",
    "    nucleotides = [x for x in nucleotides if x != '\\t']\n",
    "    \n",
    "    \n",
    "    # add to dataset\n",
    "    dataset[i] = nucleotides\n",
    "    \n",
    "print(dataset)"
   ]
  },
  {
   "cell_type": "code",
   "execution_count": 36,
   "id": "68e36ea1-cd2f-4575-8fc9-4d7cc4ee33b3",
   "metadata": {},
   "outputs": [],
   "source": [
    "import numpy as np\n",
    "import pandas as pd"
   ]
  },
  {
   "cell_type": "code",
   "execution_count": 37,
   "id": "84e1fc82-f489-4c69-b70a-79a0919286e5",
   "metadata": {},
   "outputs": [
    {
     "name": "stdout",
     "output_type": "stream",
     "text": [
      "  0    1    2    3    4    5    6    7    8    9     ... 2691 2692 2693 2694  \\\n",
      "0    C    T    I    V    F    K    R    V    C    G  ...    V    I    S    S   \n",
      "\n",
      "  2695 2696 2697 2698 2699 2700  \n",
      "0    D    V    L    V    N    N  \n",
      "\n",
      "[1 rows x 2701 columns]\n"
     ]
    }
   ],
   "source": [
    "df = pd.DataFrame(dataset)\n",
    "print(df)"
   ]
  },
  {
   "cell_type": "code",
   "execution_count": 38,
   "id": "1344c203-5dc2-4756-8690-06952d478578",
   "metadata": {},
   "outputs": [
    {
     "name": "stdout",
     "output_type": "stream",
     "text": [
      "   0\n",
      "0  C\n",
      "1  T\n",
      "2  I\n",
      "3  V\n",
      "4  F\n"
     ]
    }
   ],
   "source": [
    "#dataframe transpose\n",
    "dft = df.transpose()\n",
    "print(dft.iloc[:5])"
   ]
  },
  {
   "cell_type": "code",
   "execution_count": 39,
   "id": "57ff4b25-af37-4091-88a7-d78b72a2db52",
   "metadata": {},
   "outputs": [
    {
     "data": {
      "text/html": [
       "<div>\n",
       "<style scoped>\n",
       "    .dataframe tbody tr th:only-of-type {\n",
       "        vertical-align: middle;\n",
       "    }\n",
       "\n",
       "    .dataframe tbody tr th {\n",
       "        vertical-align: top;\n",
       "    }\n",
       "\n",
       "    .dataframe thead th {\n",
       "        text-align: right;\n",
       "    }\n",
       "</style>\n",
       "<table border=\"1\" class=\"dataframe\">\n",
       "  <thead>\n",
       "    <tr style=\"text-align: right;\">\n",
       "      <th></th>\n",
       "      <th>0</th>\n",
       "    </tr>\n",
       "  </thead>\n",
       "  <tbody>\n",
       "    <tr>\n",
       "      <th>count</th>\n",
       "      <td>2701</td>\n",
       "    </tr>\n",
       "    <tr>\n",
       "      <th>unique</th>\n",
       "      <td>20</td>\n",
       "    </tr>\n",
       "    <tr>\n",
       "      <th>top</th>\n",
       "      <td>L</td>\n",
       "    </tr>\n",
       "    <tr>\n",
       "      <th>freq</th>\n",
       "      <td>233</td>\n",
       "    </tr>\n",
       "  </tbody>\n",
       "</table>\n",
       "</div>"
      ],
      "text/plain": [
       "           0\n",
       "count   2701\n",
       "unique    20\n",
       "top        L\n",
       "freq     233"
      ]
     },
     "execution_count": 39,
     "metadata": {},
     "output_type": "execute_result"
    }
   ],
   "source": [
    "dft.describe()"
   ]
  },
  {
   "cell_type": "code",
   "execution_count": 42,
   "id": "2a8a2a13-bd43-4621-a7ce-3c869d836d08",
   "metadata": {},
   "outputs": [
    {
     "name": "stdout",
     "output_type": "stream",
     "text": [
      "   count\n",
      "0       \n",
      "L    233\n",
      "V    229\n",
      "T    183\n",
      "A    179\n",
      "D    178\n",
      "S    162\n",
      "K    159\n",
      "N    151\n",
      "G    149\n",
      "F    143\n",
      "Y    140\n",
      "I    129\n",
      "R    113\n",
      "P    110\n",
      "E    101\n",
      "C     89\n",
      "Q     88\n",
      "H     70\n",
      "M     63\n",
      "W     32\n"
     ]
    }
   ],
   "source": [
    "series = []\n",
    "for name in dft.columns:\n",
    "    series.append(dft[name].value_counts())\n",
    "    \n",
    "info = pd.DataFrame(series)\n",
    "details = info.transpose()\n",
    "print(details)"
   ]
  },
  {
   "cell_type": "code",
   "execution_count": 43,
   "id": "f2607b6b-7f49-4472-b1c3-b1c872d605e9",
   "metadata": {},
   "outputs": [],
   "source": [
    "#converting string values to numerical values as ML algorithm runs on the numerical value"
   ]
  },
  {
   "cell_type": "code",
   "execution_count": 44,
   "id": "132b3dfd-c855-4440-9056-ef9069801f91",
   "metadata": {},
   "outputs": [
    {
     "data": {
      "text/html": [
       "<div>\n",
       "<style scoped>\n",
       "    .dataframe tbody tr th:only-of-type {\n",
       "        vertical-align: middle;\n",
       "    }\n",
       "\n",
       "    .dataframe tbody tr th {\n",
       "        vertical-align: top;\n",
       "    }\n",
       "\n",
       "    .dataframe thead th {\n",
       "        text-align: right;\n",
       "    }\n",
       "</style>\n",
       "<table border=\"1\" class=\"dataframe\">\n",
       "  <thead>\n",
       "    <tr style=\"text-align: right;\">\n",
       "      <th></th>\n",
       "      <th>0_A</th>\n",
       "      <th>0_C</th>\n",
       "      <th>0_D</th>\n",
       "      <th>0_E</th>\n",
       "      <th>0_F</th>\n",
       "      <th>0_G</th>\n",
       "      <th>0_H</th>\n",
       "      <th>0_I</th>\n",
       "      <th>0_K</th>\n",
       "      <th>0_L</th>\n",
       "      <th>0_M</th>\n",
       "      <th>0_N</th>\n",
       "      <th>0_P</th>\n",
       "      <th>0_Q</th>\n",
       "      <th>0_R</th>\n",
       "      <th>0_S</th>\n",
       "      <th>0_T</th>\n",
       "      <th>0_V</th>\n",
       "      <th>0_W</th>\n",
       "      <th>0_Y</th>\n",
       "    </tr>\n",
       "  </thead>\n",
       "  <tbody>\n",
       "    <tr>\n",
       "      <th>0</th>\n",
       "      <td>False</td>\n",
       "      <td>True</td>\n",
       "      <td>False</td>\n",
       "      <td>False</td>\n",
       "      <td>False</td>\n",
       "      <td>False</td>\n",
       "      <td>False</td>\n",
       "      <td>False</td>\n",
       "      <td>False</td>\n",
       "      <td>False</td>\n",
       "      <td>False</td>\n",
       "      <td>False</td>\n",
       "      <td>False</td>\n",
       "      <td>False</td>\n",
       "      <td>False</td>\n",
       "      <td>False</td>\n",
       "      <td>False</td>\n",
       "      <td>False</td>\n",
       "      <td>False</td>\n",
       "      <td>False</td>\n",
       "    </tr>\n",
       "    <tr>\n",
       "      <th>1</th>\n",
       "      <td>False</td>\n",
       "      <td>False</td>\n",
       "      <td>False</td>\n",
       "      <td>False</td>\n",
       "      <td>False</td>\n",
       "      <td>False</td>\n",
       "      <td>False</td>\n",
       "      <td>False</td>\n",
       "      <td>False</td>\n",
       "      <td>False</td>\n",
       "      <td>False</td>\n",
       "      <td>False</td>\n",
       "      <td>False</td>\n",
       "      <td>False</td>\n",
       "      <td>False</td>\n",
       "      <td>False</td>\n",
       "      <td>True</td>\n",
       "      <td>False</td>\n",
       "      <td>False</td>\n",
       "      <td>False</td>\n",
       "    </tr>\n",
       "    <tr>\n",
       "      <th>2</th>\n",
       "      <td>False</td>\n",
       "      <td>False</td>\n",
       "      <td>False</td>\n",
       "      <td>False</td>\n",
       "      <td>False</td>\n",
       "      <td>False</td>\n",
       "      <td>False</td>\n",
       "      <td>True</td>\n",
       "      <td>False</td>\n",
       "      <td>False</td>\n",
       "      <td>False</td>\n",
       "      <td>False</td>\n",
       "      <td>False</td>\n",
       "      <td>False</td>\n",
       "      <td>False</td>\n",
       "      <td>False</td>\n",
       "      <td>False</td>\n",
       "      <td>False</td>\n",
       "      <td>False</td>\n",
       "      <td>False</td>\n",
       "    </tr>\n",
       "    <tr>\n",
       "      <th>3</th>\n",
       "      <td>False</td>\n",
       "      <td>False</td>\n",
       "      <td>False</td>\n",
       "      <td>False</td>\n",
       "      <td>False</td>\n",
       "      <td>False</td>\n",
       "      <td>False</td>\n",
       "      <td>False</td>\n",
       "      <td>False</td>\n",
       "      <td>False</td>\n",
       "      <td>False</td>\n",
       "      <td>False</td>\n",
       "      <td>False</td>\n",
       "      <td>False</td>\n",
       "      <td>False</td>\n",
       "      <td>False</td>\n",
       "      <td>False</td>\n",
       "      <td>True</td>\n",
       "      <td>False</td>\n",
       "      <td>False</td>\n",
       "    </tr>\n",
       "    <tr>\n",
       "      <th>4</th>\n",
       "      <td>False</td>\n",
       "      <td>False</td>\n",
       "      <td>False</td>\n",
       "      <td>False</td>\n",
       "      <td>True</td>\n",
       "      <td>False</td>\n",
       "      <td>False</td>\n",
       "      <td>False</td>\n",
       "      <td>False</td>\n",
       "      <td>False</td>\n",
       "      <td>False</td>\n",
       "      <td>False</td>\n",
       "      <td>False</td>\n",
       "      <td>False</td>\n",
       "      <td>False</td>\n",
       "      <td>False</td>\n",
       "      <td>False</td>\n",
       "      <td>False</td>\n",
       "      <td>False</td>\n",
       "      <td>False</td>\n",
       "    </tr>\n",
       "  </tbody>\n",
       "</table>\n",
       "</div>"
      ],
      "text/plain": [
       "     0_A    0_C    0_D    0_E    0_F    0_G    0_H    0_I    0_K    0_L  \\\n",
       "0  False   True  False  False  False  False  False  False  False  False   \n",
       "1  False  False  False  False  False  False  False  False  False  False   \n",
       "2  False  False  False  False  False  False  False   True  False  False   \n",
       "3  False  False  False  False  False  False  False  False  False  False   \n",
       "4  False  False  False  False   True  False  False  False  False  False   \n",
       "\n",
       "     0_M    0_N    0_P    0_Q    0_R    0_S    0_T    0_V    0_W    0_Y  \n",
       "0  False  False  False  False  False  False  False  False  False  False  \n",
       "1  False  False  False  False  False  False   True  False  False  False  \n",
       "2  False  False  False  False  False  False  False  False  False  False  \n",
       "3  False  False  False  False  False  False  False   True  False  False  \n",
       "4  False  False  False  False  False  False  False  False  False  False  "
      ]
     },
     "execution_count": 44,
     "metadata": {},
     "output_type": "execute_result"
    }
   ],
   "source": [
    "numerical_dft = pd.get_dummies(dft)\n",
    "numerical_dft.iloc[:5]"
   ]
  },
  {
   "cell_type": "code",
   "execution_count": 45,
   "id": "6837d2aa-a5b1-4180-9021-b01444fcfcc9",
   "metadata": {},
   "outputs": [],
   "source": [
    "from sklearn import model_selection\n",
    "\n",
    "#Creating X and Y datasets for training\n",
    "X = np.array(numerical_dft)\n",
    "y = np.array(numerical_dft)\n",
    "\n",
    "\n",
    "# defined seed for reproducibility\n",
    "seed = 1\n",
    "\n",
    "# splitinng data into training and testing datasets\n",
    "X_train, X_test, y_train, y_test = model_selection.train_test_split(X, y, test_size=0.25, random_state=seed)"
   ]
  },
  {
   "cell_type": "code",
   "execution_count": 46,
   "id": "4aa1443f-b1d3-408a-8c48-52ab2e2ed735",
   "metadata": {},
   "outputs": [],
   "source": [
    "from sklearn.neighbors import KNeighborsClassifier\n",
    "from sklearn.metrics import classification_report, accuracy_score\n",
    "\n",
    "scoring = 'accuracy'\n",
    "\n",
    "#knn classifier\n",
    "knn = KNeighborsClassifier(n_neighbors = 3)"
   ]
  },
  {
   "cell_type": "code",
   "execution_count": 47,
   "id": "edcc987b-4e18-46fb-b051-ea5ec8f68823",
   "metadata": {},
   "outputs": [
    {
     "name": "stdout",
     "output_type": "stream",
     "text": [
      "1.0\n",
      "              precision    recall  f1-score   support\n",
      "\n",
      "           0       1.00      1.00      1.00        52\n",
      "           1       1.00      1.00      1.00        27\n",
      "           2       1.00      1.00      1.00        45\n",
      "           3       1.00      1.00      1.00        32\n",
      "           4       1.00      1.00      1.00        37\n",
      "           5       1.00      1.00      1.00        49\n",
      "           6       1.00      1.00      1.00        15\n",
      "           7       1.00      1.00      1.00        34\n",
      "           8       1.00      1.00      1.00        29\n",
      "           9       1.00      1.00      1.00        60\n",
      "          10       1.00      1.00      1.00        15\n",
      "          11       1.00      1.00      1.00        34\n",
      "          12       1.00      1.00      1.00        27\n",
      "          13       1.00      1.00      1.00        19\n",
      "          14       1.00      1.00      1.00        20\n",
      "          15       1.00      1.00      1.00        45\n",
      "          16       1.00      1.00      1.00        46\n",
      "          17       1.00      1.00      1.00        49\n",
      "          18       1.00      1.00      1.00         4\n",
      "          19       1.00      1.00      1.00        37\n",
      "\n",
      "   micro avg       1.00      1.00      1.00       676\n",
      "   macro avg       1.00      1.00      1.00       676\n",
      "weighted avg       1.00      1.00      1.00       676\n",
      " samples avg       1.00      1.00      1.00       676\n",
      "\n"
     ]
    }
   ],
   "source": [
    "#knn model\n",
    "knn.fit(X_train, y_train)\n",
    "predictions = knn.predict(X_test)\n",
    "print(accuracy_score(y_test, predictions))\n",
    "print(classification_report(y_test, predictions))"
   ]
  },
  {
   "cell_type": "code",
   "execution_count": 48,
   "id": "2ef2362c-0a9d-4f53-8809-1abebb2783bd",
   "metadata": {},
   "outputs": [],
   "source": [
    "import numpy as np\n",
    "import pandas as pd"
   ]
  },
  {
   "cell_type": "code",
   "execution_count": 49,
   "id": "3cfcc7af-0c6a-4b8b-908f-f138314fde91",
   "metadata": {},
   "outputs": [
    {
     "name": "stdout",
     "output_type": "stream",
     "text": [
      "    Class         id                                           Sequence\n",
      "0       +        S10  \\t\\ttactagcaatacgcttgcgttcggtggttaagtatgtataat...\n",
      "1       +       AMPC  \\t\\ttgctatcctgacagttgtcacgctgattggtgtcgttacaat...\n",
      "2       +       AROH  \\t\\tgtactagagaactagtgcattagcttatttttttgttatcat...\n",
      "3       +      DEOP2  \\taattgtgatgtgtatcgaagtgtgttgcggagtagatgttagaa...\n",
      "4       +  LEU1_TRNA  \\ttcgataattaactattgacgaaaagctgaaaaccactagaatgc...\n",
      "..    ...        ...                                                ...\n",
      "101     -        799  \\t\\tcctcaatggcctctaaacgggtcttgaggggttttttgctga...\n",
      "102     -        987  \\t\\tgtattctcaacaagattaaccgacagattcaatctcgtggat...\n",
      "103     -       1226  \\t\\tcgcgactacgatgagatgcctgagtgcttccgttactggatt...\n",
      "104     -        794  \\t\\tctcgtcctcaatggcctctaaacgggtcttgaggggtttttt...\n",
      "105     -       1442  \\t\\ttaacattaataaataaggaggctctaatggcactcattagcc...\n",
      "\n",
      "[106 rows x 3 columns]\n"
     ]
    }
   ],
   "source": [
    "names = ['Class', 'id', 'Sequence']\n",
    "data =  pd.read_csv('promoters.data', names = names)\n",
    "print(data)"
   ]
  },
  {
   "cell_type": "code",
   "execution_count": 50,
   "id": "08128d7b-0dd4-4515-99a9-8174ea399720",
   "metadata": {},
   "outputs": [
    {
     "name": "stdout",
     "output_type": "stream",
     "text": [
      "0    +\n",
      "1    +\n",
      "2    +\n",
      "3    +\n",
      "4    +\n",
      "5    +\n",
      "6    +\n",
      "7    +\n",
      "8    +\n",
      "9    +\n",
      "Name: Class, dtype: object\n"
     ]
    }
   ],
   "source": [
    "classes = data.loc[:, 'Class']\n",
    "print(classes[:10])"
   ]
  },
  {
   "cell_type": "code",
   "execution_count": 51,
   "id": "e53add03-fb7c-44f5-a426-7d26e46368e3",
   "metadata": {},
   "outputs": [
    {
     "name": "stdout",
     "output_type": "stream",
     "text": [
      "['t', 'a', 'c', 't', 'a', 'g', 'c', 'a', 'a', 't', 'a', 'c', 'g', 'c', 't', 't', 'g', 'c', 'g', 't', 't', 'c', 'g', 'g', 't', 'g', 'g', 't', 't', 'a', 'a', 'g', 't', 'a', 't', 'g', 't', 'a', 't', 'a', 'a', 't', 'g', 'c', 'g', 'c', 'g', 'g', 'g', 'c', 't', 't', 'g', 't', 'c', 'g', 't', '+']\n"
     ]
    }
   ],
   "source": [
    "sequences = list(data.loc[:, 'Sequence'])\n",
    "dataset = {}\n",
    "\n",
    "# loop through sequences and split into individual nucleotides\n",
    "for i, seq in enumerate(sequences):\n",
    "    \n",
    "    # split into nucleotides, remove tab characters\n",
    "    nucleotides = list(seq)\n",
    "    nucleotides = [x for x in nucleotides if x != '\\t']\n",
    "    \n",
    "    # append class assignment\n",
    "    nucleotides.append(classes[i])\n",
    "    \n",
    "    # add to dataset\n",
    "    dataset[i] = nucleotides\n",
    "    \n",
    "print(dataset[0])"
   ]
  },
  {
   "cell_type": "code",
   "execution_count": 52,
   "id": "54004948-085c-4cdb-a7ba-c35692b05136",
   "metadata": {},
   "outputs": [
    {
     "name": "stdout",
     "output_type": "stream",
     "text": [
      "   0   1   2   3   4   5   6   7   8   9    ... 96  97  98  99  100 101 102  \\\n",
      "0    t   t   g   a   t   a   c   t   c   t  ...   c   c   t   a   g   c   g   \n",
      "1    a   g   t   a   c   g   a   t   g   t  ...   c   g   a   g   a   c   t   \n",
      "2    c   c   a   t   g   g   g   t   a   t  ...   g   c   t   a   g   t   a   \n",
      "3    t   t   c   t   a   g   g   c   c   t  ...   a   t   g   g   a   c   t   \n",
      "4    a   a   t   g   t   g   g   t   t   a  ...   g   a   a   g   g   a   t   \n",
      "5    g   t   a   t   a   c   g   a   t   a  ...   t   g   c   g   c   a   c   \n",
      "6    c   c   g   g   a   a   g   c   a   a  ...   a   g   c   t   a   t   t   \n",
      "7    a   c   a   a   t   a   t   a   a   t  ...   g   a   g   g   t   g   c   \n",
      "8    a   t   g   t   t   g   g   a   t   t  ...   a   c   a   t   g   g   a   \n",
      "9    t   g   a   g   a   g   g   a   a   t  ...   c   t   a   a   t   c   a   \n",
      "10   a   a   a   t   a   a   a   a   t   c  ...   c   t   c   c   c   c   c   \n",
      "11   c   c   c   g   c   g   g   c   a   c  ...   c   t   g   t   a   t   a   \n",
      "12   g   a   t   t   t   g   g   a   c   t  ...   t   c   a   c   g   c   a   \n",
      "13   c   g   a   a   a   a   a   c   t   c  ...   t   t   g   c   c   t   g   \n",
      "14   t   t   g   t   t   t   t   t   g   t  ...   a   t   t   a   c   a   a   \n",
      "15   t   t   t   c   t   g   t   t   c   t  ...   g   g   c   a   t   a   t   \n",
      "16   g   g   g   g   g   g   t   g   g   g  ...   a   t   a   g   c   a   t   \n",
      "17   c   t   c   a   a   a   a   a   a   t  ...   g   t   a   a   g   c   a   \n",
      "18   g   c   a   a   c   a   a   t   c   c  ...   a   g   t   a   a   g   a   \n",
      "19   t   a   t   g   g   a   g   a   a   a  ...   g   a   c   g   c   g   c   \n",
      "20   t   c   t   t   a   g   c   c   g   g  ...   c   t   a   a   a   g   c   \n",
      "21   c   g   a   g   a   a   c   t   g   g  ...   a   t   g   g   a   t   g   \n",
      "22   g   c   g   t   a   g   a   g   a   c  ...   t   t   a   g   c   c   a   \n",
      "23   g   t   c   g   a   g   t   t   c   c  ...   g   t   c   a   t   t   c   \n",
      "24   t   g   t   t   g   t   c   a   g   g  ...   t   c   c   a   t   t   a   \n",
      "25   g   a   t   t   c   t   t   t   t   g  ...   c   c   g   g   g   g   g   \n",
      "26   g   t   a   g   t   g   c   g   c   a  ...   a   a   c   a   c   a   a   \n",
      "27   t   t   t   c   g   c   c   a   c   a  ...   g   t   t   t   a   g   t   \n",
      "28   t   g   t   g   a   c   t   g   g   t  ...   c   g   t   g   t   g   t   \n",
      "29   a   g   t   g   a   g   g   c   t   a  ...   c   c   t   a   a   g   c   \n",
      "30   a   t   t   a   a   t   a   a   t   a  ...   t   g   g   g   a   g   a   \n",
      "31   g   g   t   g   a   a   t   t   c   c  ...   c   g   a   g   a   t   a   \n",
      "32   t   t   t   t   c   t   g   a   t   t  ...   g   t   c   c   t   t   t   \n",
      "33   a   c   t   a   c   a   a   c   g   c  ...   a   g   t   t   g   t   c   \n",
      "34   t   g   g   g   a   a   c   a   t   c  ...   c   t   c   a   c   t   t   \n",
      "35   g   t   t   a   c   a   g   g   g   c  ...   a   t   t   g   t   t   c   \n",
      "36   t   t   t   t   t   g   c   t   t   t  ...   a   t   g   a   t   t   g   \n",
      "37   a   a   a   g   a   a   a   a   a   a  ...   c   t   g   c   t   g   t   \n",
      "38   t   c   t   t   g   a   t   t   a   t  ...   t   g   t   g   c   c   g   \n",
      "39   a   a   c   t   a   a   a   a   a   a  ...   t   c   a   t   t   t   g   \n",
      "40   a   a   a   a   a   c   g   a   t   a  ...   g   g   t   c   t   g   a   \n",
      "41   t   t   t   g   t   t   t   t   c   t  ...   c   c   t   t   g   a   t   \n",
      "42   g   c   g   a   g   a   c   t   g   g  ...   a   a   a   c   t   a   g   \n",
      "43   c   t   c   a   c   g   a   g   c   c  ...   t   a   c   t   a   a   g   \n",
      "44   g   a   t   t   g   a   g   c   a   g  ...   a   t   t   g   g   g   a   \n",
      "45   c   a   a   a   c   g   c   t   a   c  ...   a   g   g   c   a   g   c   \n",
      "46   g   c   a   c   c   t   c   t   t   c  ...   a   t   t   a   c   a   g   \n",
      "47   g   g   c   t   t   c   c   c   g   a  ...   t   t   g   t   g   g   t   \n",
      "48   g   c   c   a   c   c   a   a   a   c  ...   g   a   a   g   t   g   t   \n",
      "49   c   a   a   a   c   g   t   a   a   c  ...   c   a   a   g   g   a   c   \n",
      "50   t   t   c   c   g   t   c   c   a   a  ...   t   t   c   a   c   a   a   \n",
      "51   t   c   c   a   t   t   a   a   t   c  ...   t   c   a   g   c   c   a   \n",
      "52   g   g   c   a   g   t   t   g   g   t  ...   t   g   t   t   c   t   c   \n",
      "53   t   c   g   a   g   a   g   a   g   g  ...   c   c   t   a   t   a   a   \n",
      "54   c   c   g   c   t   g   a   a   t   a  ...   t   t   a   t   a   t   t   \n",
      "55   g   a   c   t   a   g   a   c   t   c  ...   t   t   t   g   c   a   t   \n",
      "56   t   a   g   c   g   t   t   a   t   a  ...   g   t   t   a   g   t   g   \n",
      "57   +   +   +   +   +   +   +   +   +   +  ...   -   -   -   -   -   -   -   \n",
      "\n",
      "   103 104 105  \n",
      "0    c   c   t  \n",
      "1    g   t   a  \n",
      "2    c   c   a  \n",
      "3    g   g   c  \n",
      "4    a   t   a  \n",
      "5    c   c   t  \n",
      "6    t   c   t  \n",
      "7    a   t   a  \n",
      "8    c   c   a  \n",
      "9    g   a   t  \n",
      "10   a   a   a  \n",
      "11   t   t   a  \n",
      "12   g   g   a  \n",
      "13   a   g   t  \n",
      "14   g   c   a  \n",
      "15   a   c   a  \n",
      "16   t   t   g  \n",
      "17   g   c   g  \n",
      "18   c   t   a  \n",
      "19   c   a   g  \n",
      "20   t   a   g  \n",
      "21   g   a   c  \n",
      "22   a   c   t  \n",
      "23   g   g   c  \n",
      "24   t   g   t  \n",
      "25   g   g   a  \n",
      "26   c   t   a  \n",
      "27   t   c   t  \n",
      "28   t   t   g  \n",
      "29   c   t   g  \n",
      "30   c   g   c  \n",
      "31   g   a   a  \n",
      "32   t   g   c  \n",
      "33   t   g   t  \n",
      "34   a   g   c  \n",
      "35   c   g   a  \n",
      "36   t   t   t  \n",
      "37   g   t   t  \n",
      "38   g   t   a  \n",
      "39   a   t   g  \n",
      "40   t   t   c  \n",
      "41   t   t   c  \n",
      "42   g   g   a  \n",
      "43   t   c   a  \n",
      "44   c   t   t  \n",
      "45   a   g   c  \n",
      "46   c   a   a  \n",
      "47   c   a   a  \n",
      "48   a   a   t  \n",
      "49   a   g   c  \n",
      "50   g   g   a  \n",
      "51   g   a   a  \n",
      "52   c   g   g  \n",
      "53   t   g   a  \n",
      "54   t   a   a  \n",
      "55   c   a   c  \n",
      "56   c   c   t  \n",
      "57   -   -   -  \n",
      "\n",
      "[58 rows x 106 columns]\n"
     ]
    }
   ],
   "source": [
    "df = pd.DataFrame(dataset)\n",
    "print(df)"
   ]
  },
  {
   "cell_type": "code",
   "execution_count": 53,
   "id": "8f3c0b4c-60fd-4ecc-9cb1-7944efa41508",
   "metadata": {},
   "outputs": [
    {
     "name": "stdout",
     "output_type": "stream",
     "text": [
      "  0  1  2  3  4  5  6  7  8  9   ... 48 49 50 51 52 53 54 55 56 57\n",
      "0  t  a  c  t  a  g  c  a  a  t  ...  g  c  t  t  g  t  c  g  t  +\n",
      "1  t  g  c  t  a  t  c  c  t  g  ...  c  a  t  c  g  c  c  a  a  +\n",
      "2  g  t  a  c  t  a  g  a  g  a  ...  c  a  c  c  c  g  g  c  g  +\n",
      "3  a  a  t  t  g  t  g  a  t  g  ...  a  a  c  a  a  a  c  t  c  +\n",
      "4  t  c  g  a  t  a  a  t  t  a  ...  c  c  g  t  g  g  t  a  g  +\n",
      "5  a  g  g  g  g  c  a  a  g  g  ...  c  g  t  t  t  a  g  g  t  +\n",
      "6  c  a  g  g  g  g  g  t  g  g  ...  a  t  c  a  t  g  a  a  t  +\n",
      "7  t  t  t  c  t  a  c  a  a  a  ...  a  a  c  a  g  a  a  c  a  +\n",
      "8  c  g  a  c  t  t  a  a  t  a  ...  a  a  a  t  g  g  t  t  t  +\n",
      "9  t  t  t  t  a  a  a  t  t  t  ...  c  c  a  c  t  g  a  c  a  +\n",
      "\n",
      "[10 rows x 58 columns]\n"
     ]
    }
   ],
   "source": [
    "dft = df.transpose()\n",
    "print(dft.iloc[:10])"
   ]
  },
  {
   "cell_type": "code",
   "execution_count": 54,
   "id": "9b7b3be2-304b-4c49-8828-167e59364343",
   "metadata": {},
   "outputs": [
    {
     "name": "stdout",
     "output_type": "stream",
     "text": [
      "   0  1  2  3  4  5  6  7  8  9  ... 48 49 50 51 52 53 54 55 56 Class\n",
      "0  t  a  c  t  a  g  c  a  a  t  ...  g  c  t  t  g  t  c  g  t     +\n",
      "1  t  g  c  t  a  t  c  c  t  g  ...  c  a  t  c  g  c  c  a  a     +\n",
      "2  g  t  a  c  t  a  g  a  g  a  ...  c  a  c  c  c  g  g  c  g     +\n",
      "3  a  a  t  t  g  t  g  a  t  g  ...  a  a  c  a  a  a  c  t  c     +\n",
      "4  t  c  g  a  t  a  a  t  t  a  ...  c  c  g  t  g  g  t  a  g     +\n",
      "5  a  g  g  g  g  c  a  a  g  g  ...  c  g  t  t  t  a  g  g  t     +\n",
      "6  c  a  g  g  g  g  g  t  g  g  ...  a  t  c  a  t  g  a  a  t     +\n",
      "7  t  t  t  c  t  a  c  a  a  a  ...  a  a  c  a  g  a  a  c  a     +\n",
      "8  c  g  a  c  t  t  a  a  t  a  ...  a  a  a  t  g  g  t  t  t     +\n",
      "9  t  t  t  t  a  a  a  t  t  t  ...  c  c  a  c  t  g  a  c  a     +\n",
      "\n",
      "[10 rows x 58 columns]\n"
     ]
    }
   ],
   "source": [
    "dft.rename(columns = {57: 'Class'}, inplace = True) \n",
    "print(dft.iloc[:10])"
   ]
  },
  {
   "cell_type": "code",
   "execution_count": 55,
   "id": "eee0e33b-3595-4c4a-bf4b-8c3d163731a6",
   "metadata": {},
   "outputs": [
    {
     "data": {
      "text/html": [
       "<div>\n",
       "<style scoped>\n",
       "    .dataframe tbody tr th:only-of-type {\n",
       "        vertical-align: middle;\n",
       "    }\n",
       "\n",
       "    .dataframe tbody tr th {\n",
       "        vertical-align: top;\n",
       "    }\n",
       "\n",
       "    .dataframe thead th {\n",
       "        text-align: right;\n",
       "    }\n",
       "</style>\n",
       "<table border=\"1\" class=\"dataframe\">\n",
       "  <thead>\n",
       "    <tr style=\"text-align: right;\">\n",
       "      <th></th>\n",
       "      <th>0</th>\n",
       "      <th>1</th>\n",
       "      <th>2</th>\n",
       "      <th>3</th>\n",
       "      <th>4</th>\n",
       "      <th>5</th>\n",
       "      <th>6</th>\n",
       "      <th>7</th>\n",
       "      <th>8</th>\n",
       "      <th>9</th>\n",
       "      <th>...</th>\n",
       "      <th>48</th>\n",
       "      <th>49</th>\n",
       "      <th>50</th>\n",
       "      <th>51</th>\n",
       "      <th>52</th>\n",
       "      <th>53</th>\n",
       "      <th>54</th>\n",
       "      <th>55</th>\n",
       "      <th>56</th>\n",
       "      <th>Class</th>\n",
       "    </tr>\n",
       "  </thead>\n",
       "  <tbody>\n",
       "    <tr>\n",
       "      <th>count</th>\n",
       "      <td>106</td>\n",
       "      <td>106</td>\n",
       "      <td>106</td>\n",
       "      <td>106</td>\n",
       "      <td>106</td>\n",
       "      <td>106</td>\n",
       "      <td>106</td>\n",
       "      <td>106</td>\n",
       "      <td>106</td>\n",
       "      <td>106</td>\n",
       "      <td>...</td>\n",
       "      <td>106</td>\n",
       "      <td>106</td>\n",
       "      <td>106</td>\n",
       "      <td>106</td>\n",
       "      <td>106</td>\n",
       "      <td>106</td>\n",
       "      <td>106</td>\n",
       "      <td>106</td>\n",
       "      <td>106</td>\n",
       "      <td>106</td>\n",
       "    </tr>\n",
       "    <tr>\n",
       "      <th>unique</th>\n",
       "      <td>4</td>\n",
       "      <td>4</td>\n",
       "      <td>4</td>\n",
       "      <td>4</td>\n",
       "      <td>4</td>\n",
       "      <td>4</td>\n",
       "      <td>4</td>\n",
       "      <td>4</td>\n",
       "      <td>4</td>\n",
       "      <td>4</td>\n",
       "      <td>...</td>\n",
       "      <td>4</td>\n",
       "      <td>4</td>\n",
       "      <td>4</td>\n",
       "      <td>4</td>\n",
       "      <td>4</td>\n",
       "      <td>4</td>\n",
       "      <td>4</td>\n",
       "      <td>4</td>\n",
       "      <td>4</td>\n",
       "      <td>2</td>\n",
       "    </tr>\n",
       "    <tr>\n",
       "      <th>top</th>\n",
       "      <td>t</td>\n",
       "      <td>a</td>\n",
       "      <td>a</td>\n",
       "      <td>c</td>\n",
       "      <td>a</td>\n",
       "      <td>a</td>\n",
       "      <td>a</td>\n",
       "      <td>a</td>\n",
       "      <td>a</td>\n",
       "      <td>a</td>\n",
       "      <td>...</td>\n",
       "      <td>c</td>\n",
       "      <td>c</td>\n",
       "      <td>c</td>\n",
       "      <td>t</td>\n",
       "      <td>t</td>\n",
       "      <td>c</td>\n",
       "      <td>c</td>\n",
       "      <td>c</td>\n",
       "      <td>t</td>\n",
       "      <td>+</td>\n",
       "    </tr>\n",
       "    <tr>\n",
       "      <th>freq</th>\n",
       "      <td>38</td>\n",
       "      <td>34</td>\n",
       "      <td>30</td>\n",
       "      <td>30</td>\n",
       "      <td>36</td>\n",
       "      <td>42</td>\n",
       "      <td>38</td>\n",
       "      <td>34</td>\n",
       "      <td>33</td>\n",
       "      <td>36</td>\n",
       "      <td>...</td>\n",
       "      <td>36</td>\n",
       "      <td>42</td>\n",
       "      <td>31</td>\n",
       "      <td>33</td>\n",
       "      <td>35</td>\n",
       "      <td>32</td>\n",
       "      <td>29</td>\n",
       "      <td>29</td>\n",
       "      <td>34</td>\n",
       "      <td>53</td>\n",
       "    </tr>\n",
       "  </tbody>\n",
       "</table>\n",
       "<p>4 rows × 58 columns</p>\n",
       "</div>"
      ],
      "text/plain": [
       "          0    1    2    3    4    5    6    7    8    9  ...   48   49   50  \\\n",
       "count   106  106  106  106  106  106  106  106  106  106  ...  106  106  106   \n",
       "unique    4    4    4    4    4    4    4    4    4    4  ...    4    4    4   \n",
       "top       t    a    a    c    a    a    a    a    a    a  ...    c    c    c   \n",
       "freq     38   34   30   30   36   42   38   34   33   36  ...   36   42   31   \n",
       "\n",
       "         51   52   53   54   55   56 Class  \n",
       "count   106  106  106  106  106  106   106  \n",
       "unique    4    4    4    4    4    4     2  \n",
       "top       t    t    c    c    c    t     +  \n",
       "freq     33   35   32   29   29   34    53  \n",
       "\n",
       "[4 rows x 58 columns]"
      ]
     },
     "execution_count": 55,
     "metadata": {},
     "output_type": "execute_result"
    }
   ],
   "source": [
    "dft.describe()"
   ]
  },
  {
   "cell_type": "code",
   "execution_count": 56,
   "id": "7d9bfe36-5c7f-4108-9fca-94c93e367d4a",
   "metadata": {},
   "outputs": [
    {
     "name": "stdout",
     "output_type": "stream",
     "text": [
      "   count  count  count  count  count  count  count  count  count  count  ...  \\\n",
      "t   38.0   26.0   27.0   26.0   22.0   24.0   30.0   32.0   32.0   28.0  ...   \n",
      "c   27.0   22.0   21.0   30.0   19.0   18.0   21.0   20.0   22.0   22.0  ...   \n",
      "a   26.0   34.0   30.0   22.0   36.0   42.0   38.0   34.0   33.0   36.0  ...   \n",
      "g   15.0   24.0   28.0   28.0   29.0   22.0   17.0   20.0   19.0   20.0  ...   \n",
      "+    NaN    NaN    NaN    NaN    NaN    NaN    NaN    NaN    NaN    NaN  ...   \n",
      "-    NaN    NaN    NaN    NaN    NaN    NaN    NaN    NaN    NaN    NaN  ...   \n",
      "\n",
      "   count  count  count  count  count  count  count  count  count  count  \n",
      "t   21.0   22.0   23.0   33.0   35.0   30.0   23.0   29.0   34.0    NaN  \n",
      "c   36.0   42.0   31.0   32.0   21.0   32.0   29.0   29.0   17.0    NaN  \n",
      "a   23.0   24.0   28.0   27.0   25.0   22.0   26.0   24.0   27.0    NaN  \n",
      "g   26.0   18.0   24.0   14.0   25.0   22.0   28.0   24.0   28.0    NaN  \n",
      "+    NaN    NaN    NaN    NaN    NaN    NaN    NaN    NaN    NaN   53.0  \n",
      "-    NaN    NaN    NaN    NaN    NaN    NaN    NaN    NaN    NaN   53.0  \n",
      "\n",
      "[6 rows x 58 columns]\n"
     ]
    }
   ],
   "source": [
    "series = []\n",
    "for name in dft.columns:\n",
    "    series.append(dft[name].value_counts())\n",
    "    \n",
    "info = pd.DataFrame(series)\n",
    "details = info.transpose()\n",
    "print(details)"
   ]
  },
  {
   "cell_type": "code",
   "execution_count": 57,
   "id": "55552e01-9177-4d81-9c6c-9b9a42a85ec9",
   "metadata": {},
   "outputs": [
    {
     "data": {
      "text/html": [
       "<div>\n",
       "<style scoped>\n",
       "    .dataframe tbody tr th:only-of-type {\n",
       "        vertical-align: middle;\n",
       "    }\n",
       "\n",
       "    .dataframe tbody tr th {\n",
       "        vertical-align: top;\n",
       "    }\n",
       "\n",
       "    .dataframe thead th {\n",
       "        text-align: right;\n",
       "    }\n",
       "</style>\n",
       "<table border=\"1\" class=\"dataframe\">\n",
       "  <thead>\n",
       "    <tr style=\"text-align: right;\">\n",
       "      <th></th>\n",
       "      <th>0_a</th>\n",
       "      <th>0_c</th>\n",
       "      <th>0_g</th>\n",
       "      <th>0_t</th>\n",
       "      <th>1_a</th>\n",
       "      <th>1_c</th>\n",
       "      <th>1_g</th>\n",
       "      <th>1_t</th>\n",
       "      <th>2_a</th>\n",
       "      <th>2_c</th>\n",
       "      <th>...</th>\n",
       "      <th>55_a</th>\n",
       "      <th>55_c</th>\n",
       "      <th>55_g</th>\n",
       "      <th>55_t</th>\n",
       "      <th>56_a</th>\n",
       "      <th>56_c</th>\n",
       "      <th>56_g</th>\n",
       "      <th>56_t</th>\n",
       "      <th>Class_+</th>\n",
       "      <th>Class_-</th>\n",
       "    </tr>\n",
       "  </thead>\n",
       "  <tbody>\n",
       "    <tr>\n",
       "      <th>0</th>\n",
       "      <td>False</td>\n",
       "      <td>False</td>\n",
       "      <td>False</td>\n",
       "      <td>True</td>\n",
       "      <td>True</td>\n",
       "      <td>False</td>\n",
       "      <td>False</td>\n",
       "      <td>False</td>\n",
       "      <td>False</td>\n",
       "      <td>True</td>\n",
       "      <td>...</td>\n",
       "      <td>False</td>\n",
       "      <td>False</td>\n",
       "      <td>True</td>\n",
       "      <td>False</td>\n",
       "      <td>False</td>\n",
       "      <td>False</td>\n",
       "      <td>False</td>\n",
       "      <td>True</td>\n",
       "      <td>True</td>\n",
       "      <td>False</td>\n",
       "    </tr>\n",
       "    <tr>\n",
       "      <th>1</th>\n",
       "      <td>False</td>\n",
       "      <td>False</td>\n",
       "      <td>False</td>\n",
       "      <td>True</td>\n",
       "      <td>False</td>\n",
       "      <td>False</td>\n",
       "      <td>True</td>\n",
       "      <td>False</td>\n",
       "      <td>False</td>\n",
       "      <td>True</td>\n",
       "      <td>...</td>\n",
       "      <td>True</td>\n",
       "      <td>False</td>\n",
       "      <td>False</td>\n",
       "      <td>False</td>\n",
       "      <td>True</td>\n",
       "      <td>False</td>\n",
       "      <td>False</td>\n",
       "      <td>False</td>\n",
       "      <td>True</td>\n",
       "      <td>False</td>\n",
       "    </tr>\n",
       "    <tr>\n",
       "      <th>2</th>\n",
       "      <td>False</td>\n",
       "      <td>False</td>\n",
       "      <td>True</td>\n",
       "      <td>False</td>\n",
       "      <td>False</td>\n",
       "      <td>False</td>\n",
       "      <td>False</td>\n",
       "      <td>True</td>\n",
       "      <td>True</td>\n",
       "      <td>False</td>\n",
       "      <td>...</td>\n",
       "      <td>False</td>\n",
       "      <td>True</td>\n",
       "      <td>False</td>\n",
       "      <td>False</td>\n",
       "      <td>False</td>\n",
       "      <td>False</td>\n",
       "      <td>True</td>\n",
       "      <td>False</td>\n",
       "      <td>True</td>\n",
       "      <td>False</td>\n",
       "    </tr>\n",
       "    <tr>\n",
       "      <th>3</th>\n",
       "      <td>True</td>\n",
       "      <td>False</td>\n",
       "      <td>False</td>\n",
       "      <td>False</td>\n",
       "      <td>True</td>\n",
       "      <td>False</td>\n",
       "      <td>False</td>\n",
       "      <td>False</td>\n",
       "      <td>False</td>\n",
       "      <td>False</td>\n",
       "      <td>...</td>\n",
       "      <td>False</td>\n",
       "      <td>False</td>\n",
       "      <td>False</td>\n",
       "      <td>True</td>\n",
       "      <td>False</td>\n",
       "      <td>True</td>\n",
       "      <td>False</td>\n",
       "      <td>False</td>\n",
       "      <td>True</td>\n",
       "      <td>False</td>\n",
       "    </tr>\n",
       "    <tr>\n",
       "      <th>4</th>\n",
       "      <td>False</td>\n",
       "      <td>False</td>\n",
       "      <td>False</td>\n",
       "      <td>True</td>\n",
       "      <td>False</td>\n",
       "      <td>True</td>\n",
       "      <td>False</td>\n",
       "      <td>False</td>\n",
       "      <td>False</td>\n",
       "      <td>False</td>\n",
       "      <td>...</td>\n",
       "      <td>True</td>\n",
       "      <td>False</td>\n",
       "      <td>False</td>\n",
       "      <td>False</td>\n",
       "      <td>False</td>\n",
       "      <td>False</td>\n",
       "      <td>True</td>\n",
       "      <td>False</td>\n",
       "      <td>True</td>\n",
       "      <td>False</td>\n",
       "    </tr>\n",
       "    <tr>\n",
       "      <th>5</th>\n",
       "      <td>True</td>\n",
       "      <td>False</td>\n",
       "      <td>False</td>\n",
       "      <td>False</td>\n",
       "      <td>False</td>\n",
       "      <td>False</td>\n",
       "      <td>True</td>\n",
       "      <td>False</td>\n",
       "      <td>False</td>\n",
       "      <td>False</td>\n",
       "      <td>...</td>\n",
       "      <td>False</td>\n",
       "      <td>False</td>\n",
       "      <td>True</td>\n",
       "      <td>False</td>\n",
       "      <td>False</td>\n",
       "      <td>False</td>\n",
       "      <td>False</td>\n",
       "      <td>True</td>\n",
       "      <td>True</td>\n",
       "      <td>False</td>\n",
       "    </tr>\n",
       "    <tr>\n",
       "      <th>6</th>\n",
       "      <td>False</td>\n",
       "      <td>True</td>\n",
       "      <td>False</td>\n",
       "      <td>False</td>\n",
       "      <td>True</td>\n",
       "      <td>False</td>\n",
       "      <td>False</td>\n",
       "      <td>False</td>\n",
       "      <td>False</td>\n",
       "      <td>False</td>\n",
       "      <td>...</td>\n",
       "      <td>True</td>\n",
       "      <td>False</td>\n",
       "      <td>False</td>\n",
       "      <td>False</td>\n",
       "      <td>False</td>\n",
       "      <td>False</td>\n",
       "      <td>False</td>\n",
       "      <td>True</td>\n",
       "      <td>True</td>\n",
       "      <td>False</td>\n",
       "    </tr>\n",
       "    <tr>\n",
       "      <th>7</th>\n",
       "      <td>False</td>\n",
       "      <td>False</td>\n",
       "      <td>False</td>\n",
       "      <td>True</td>\n",
       "      <td>False</td>\n",
       "      <td>False</td>\n",
       "      <td>False</td>\n",
       "      <td>True</td>\n",
       "      <td>False</td>\n",
       "      <td>False</td>\n",
       "      <td>...</td>\n",
       "      <td>False</td>\n",
       "      <td>True</td>\n",
       "      <td>False</td>\n",
       "      <td>False</td>\n",
       "      <td>True</td>\n",
       "      <td>False</td>\n",
       "      <td>False</td>\n",
       "      <td>False</td>\n",
       "      <td>True</td>\n",
       "      <td>False</td>\n",
       "    </tr>\n",
       "    <tr>\n",
       "      <th>8</th>\n",
       "      <td>False</td>\n",
       "      <td>True</td>\n",
       "      <td>False</td>\n",
       "      <td>False</td>\n",
       "      <td>False</td>\n",
       "      <td>False</td>\n",
       "      <td>True</td>\n",
       "      <td>False</td>\n",
       "      <td>True</td>\n",
       "      <td>False</td>\n",
       "      <td>...</td>\n",
       "      <td>False</td>\n",
       "      <td>False</td>\n",
       "      <td>False</td>\n",
       "      <td>True</td>\n",
       "      <td>False</td>\n",
       "      <td>False</td>\n",
       "      <td>False</td>\n",
       "      <td>True</td>\n",
       "      <td>True</td>\n",
       "      <td>False</td>\n",
       "    </tr>\n",
       "    <tr>\n",
       "      <th>9</th>\n",
       "      <td>False</td>\n",
       "      <td>False</td>\n",
       "      <td>False</td>\n",
       "      <td>True</td>\n",
       "      <td>False</td>\n",
       "      <td>False</td>\n",
       "      <td>False</td>\n",
       "      <td>True</td>\n",
       "      <td>False</td>\n",
       "      <td>False</td>\n",
       "      <td>...</td>\n",
       "      <td>False</td>\n",
       "      <td>True</td>\n",
       "      <td>False</td>\n",
       "      <td>False</td>\n",
       "      <td>True</td>\n",
       "      <td>False</td>\n",
       "      <td>False</td>\n",
       "      <td>False</td>\n",
       "      <td>True</td>\n",
       "      <td>False</td>\n",
       "    </tr>\n",
       "  </tbody>\n",
       "</table>\n",
       "<p>10 rows × 230 columns</p>\n",
       "</div>"
      ],
      "text/plain": [
       "     0_a    0_c    0_g    0_t    1_a    1_c    1_g    1_t    2_a    2_c  ...  \\\n",
       "0  False  False  False   True   True  False  False  False  False   True  ...   \n",
       "1  False  False  False   True  False  False   True  False  False   True  ...   \n",
       "2  False  False   True  False  False  False  False   True   True  False  ...   \n",
       "3   True  False  False  False   True  False  False  False  False  False  ...   \n",
       "4  False  False  False   True  False   True  False  False  False  False  ...   \n",
       "5   True  False  False  False  False  False   True  False  False  False  ...   \n",
       "6  False   True  False  False   True  False  False  False  False  False  ...   \n",
       "7  False  False  False   True  False  False  False   True  False  False  ...   \n",
       "8  False   True  False  False  False  False   True  False   True  False  ...   \n",
       "9  False  False  False   True  False  False  False   True  False  False  ...   \n",
       "\n",
       "    55_a   55_c   55_g   55_t   56_a   56_c   56_g   56_t  Class_+  Class_-  \n",
       "0  False  False   True  False  False  False  False   True     True    False  \n",
       "1   True  False  False  False   True  False  False  False     True    False  \n",
       "2  False   True  False  False  False  False   True  False     True    False  \n",
       "3  False  False  False   True  False   True  False  False     True    False  \n",
       "4   True  False  False  False  False  False   True  False     True    False  \n",
       "5  False  False   True  False  False  False  False   True     True    False  \n",
       "6   True  False  False  False  False  False  False   True     True    False  \n",
       "7  False   True  False  False   True  False  False  False     True    False  \n",
       "8  False  False  False   True  False  False  False   True     True    False  \n",
       "9  False   True  False  False   True  False  False  False     True    False  \n",
       "\n",
       "[10 rows x 230 columns]"
      ]
     },
     "execution_count": 57,
     "metadata": {},
     "output_type": "execute_result"
    }
   ],
   "source": [
    "numerical_dft = pd.get_dummies(dft)\n",
    "numerical_dft.iloc[:10]"
   ]
  },
  {
   "cell_type": "code",
   "execution_count": 58,
   "id": "9252dfbc-8242-46d4-b5c1-8d506bac7705",
   "metadata": {},
   "outputs": [
    {
     "name": "stdout",
     "output_type": "stream",
     "text": [
      "     0_a    0_c    0_g    0_t    1_a    1_c    1_g    1_t    2_a    2_c  ...  \\\n",
      "0  False  False  False   True   True  False  False  False  False   True  ...   \n",
      "1  False  False  False   True  False  False   True  False  False   True  ...   \n",
      "2  False  False   True  False  False  False  False   True   True  False  ...   \n",
      "3   True  False  False  False   True  False  False  False  False  False  ...   \n",
      "4  False  False  False   True  False   True  False  False  False  False  ...   \n",
      "5   True  False  False  False  False  False   True  False  False  False  ...   \n",
      "6  False   True  False  False   True  False  False  False  False  False  ...   \n",
      "7  False  False  False   True  False  False  False   True  False  False  ...   \n",
      "8  False   True  False  False  False  False   True  False   True  False  ...   \n",
      "9  False  False  False   True  False  False  False   True  False  False  ...   \n",
      "\n",
      "    54_t   55_a   55_c   55_g   55_t   56_a   56_c   56_g   56_t  Class  \n",
      "0  False  False  False   True  False  False  False  False   True   True  \n",
      "1  False   True  False  False  False   True  False  False  False   True  \n",
      "2  False  False   True  False  False  False  False   True  False   True  \n",
      "3  False  False  False  False   True  False   True  False  False   True  \n",
      "4   True   True  False  False  False  False  False   True  False   True  \n",
      "5  False  False  False   True  False  False  False  False   True   True  \n",
      "6  False   True  False  False  False  False  False  False   True   True  \n",
      "7  False  False   True  False  False   True  False  False  False   True  \n",
      "8   True  False  False  False   True  False  False  False   True   True  \n",
      "9  False  False   True  False  False   True  False  False  False   True  \n",
      "\n",
      "[10 rows x 229 columns]\n"
     ]
    }
   ],
   "source": [
    "dft = numerical_dft.drop(columns=['Class_-'])\n",
    "\n",
    "dft.rename(columns = {'Class_+': 'Class'}, inplace = True)\n",
    "print(dft.iloc[:10])"
   ]
  },
  {
   "cell_type": "code",
   "execution_count": 63,
   "id": "30c590c5-d367-40c9-bc66-ec174c6b7e01",
   "metadata": {},
   "outputs": [],
   "source": [
    "from sklearn import model_selection\n",
    "# Create X and Y datasets for training\n",
    "X = np.array(dft.drop('Class', axis=1))  # Remove the second argument '2'\n",
    "y = np.array(dft['Class'])\n",
    "# define seed for reproducibility\n"
   ]
  },
  {
   "cell_type": "code",
   "execution_count": 64,
   "id": "1bdf2e6b-2d8d-4993-a117-98a6850bc982",
   "metadata": {},
   "outputs": [],
   "source": [
    "from sklearn.svm import SVC\n",
    "from sklearn.metrics import classification_report, accuracy_score"
   ]
  },
  {
   "cell_type": "code",
   "execution_count": 65,
   "id": "c04c7075-adfc-41fa-af1a-7a09a10d018c",
   "metadata": {},
   "outputs": [],
   "source": [
    "scoring = 'accuracy'\n",
    "\n",
    "svm = SVC(kernel = 'linear')"
   ]
  },
  {
   "cell_type": "code",
   "execution_count": 78,
   "id": "e6f35dd6-6526-4e47-8b99-1f6935c37e4e",
   "metadata": {},
   "outputs": [
    {
     "ename": "ValueError",
     "evalue": "y should be a 1d array, got an array of shape (2025, 20) instead.",
     "output_type": "error",
     "traceback": [
      "\u001b[1;31m---------------------------------------------------------------------------\u001b[0m",
      "\u001b[1;31mValueError\u001b[0m                                Traceback (most recent call last)",
      "Cell \u001b[1;32mIn[78], line 6\u001b[0m\n\u001b[0;32m      3\u001b[0m \u001b[38;5;66;03m# Create an instance of the SVM classifier\u001b[39;00m\n\u001b[0;32m      4\u001b[0m clf \u001b[38;5;241m=\u001b[39m SVC()\n\u001b[1;32m----> 6\u001b[0m \u001b[43mclf\u001b[49m\u001b[38;5;241;43m.\u001b[39;49m\u001b[43mfit\u001b[49m\u001b[43m(\u001b[49m\u001b[43mX_train\u001b[49m\u001b[43m,\u001b[49m\u001b[43m \u001b[49m\u001b[43my_train\u001b[49m\u001b[43m)\u001b[49m\n",
      "File \u001b[1;32m~\\AppData\\Local\\Programs\\Python\\Python311\\Lib\\site-packages\\sklearn\\base.py:1152\u001b[0m, in \u001b[0;36m_fit_context.<locals>.decorator.<locals>.wrapper\u001b[1;34m(estimator, *args, **kwargs)\u001b[0m\n\u001b[0;32m   1145\u001b[0m     estimator\u001b[38;5;241m.\u001b[39m_validate_params()\n\u001b[0;32m   1147\u001b[0m \u001b[38;5;28;01mwith\u001b[39;00m config_context(\n\u001b[0;32m   1148\u001b[0m     skip_parameter_validation\u001b[38;5;241m=\u001b[39m(\n\u001b[0;32m   1149\u001b[0m         prefer_skip_nested_validation \u001b[38;5;129;01mor\u001b[39;00m global_skip_validation\n\u001b[0;32m   1150\u001b[0m     )\n\u001b[0;32m   1151\u001b[0m ):\n\u001b[1;32m-> 1152\u001b[0m     \u001b[38;5;28;01mreturn\u001b[39;00m \u001b[43mfit_method\u001b[49m\u001b[43m(\u001b[49m\u001b[43mestimator\u001b[49m\u001b[43m,\u001b[49m\u001b[43m \u001b[49m\u001b[38;5;241;43m*\u001b[39;49m\u001b[43margs\u001b[49m\u001b[43m,\u001b[49m\u001b[43m \u001b[49m\u001b[38;5;241;43m*\u001b[39;49m\u001b[38;5;241;43m*\u001b[39;49m\u001b[43mkwargs\u001b[49m\u001b[43m)\u001b[49m\n",
      "File \u001b[1;32m~\\AppData\\Local\\Programs\\Python\\Python311\\Lib\\site-packages\\sklearn\\svm\\_base.py:190\u001b[0m, in \u001b[0;36mBaseLibSVM.fit\u001b[1;34m(self, X, y, sample_weight)\u001b[0m\n\u001b[0;32m    188\u001b[0m     check_consistent_length(X, y)\n\u001b[0;32m    189\u001b[0m \u001b[38;5;28;01melse\u001b[39;00m:\n\u001b[1;32m--> 190\u001b[0m     X, y \u001b[38;5;241m=\u001b[39m \u001b[38;5;28;43mself\u001b[39;49m\u001b[38;5;241;43m.\u001b[39;49m\u001b[43m_validate_data\u001b[49m\u001b[43m(\u001b[49m\n\u001b[0;32m    191\u001b[0m \u001b[43m        \u001b[49m\u001b[43mX\u001b[49m\u001b[43m,\u001b[49m\n\u001b[0;32m    192\u001b[0m \u001b[43m        \u001b[49m\u001b[43my\u001b[49m\u001b[43m,\u001b[49m\n\u001b[0;32m    193\u001b[0m \u001b[43m        \u001b[49m\u001b[43mdtype\u001b[49m\u001b[38;5;241;43m=\u001b[39;49m\u001b[43mnp\u001b[49m\u001b[38;5;241;43m.\u001b[39;49m\u001b[43mfloat64\u001b[49m\u001b[43m,\u001b[49m\n\u001b[0;32m    194\u001b[0m \u001b[43m        \u001b[49m\u001b[43morder\u001b[49m\u001b[38;5;241;43m=\u001b[39;49m\u001b[38;5;124;43m\"\u001b[39;49m\u001b[38;5;124;43mC\u001b[39;49m\u001b[38;5;124;43m\"\u001b[39;49m\u001b[43m,\u001b[49m\n\u001b[0;32m    195\u001b[0m \u001b[43m        \u001b[49m\u001b[43maccept_sparse\u001b[49m\u001b[38;5;241;43m=\u001b[39;49m\u001b[38;5;124;43m\"\u001b[39;49m\u001b[38;5;124;43mcsr\u001b[39;49m\u001b[38;5;124;43m\"\u001b[39;49m\u001b[43m,\u001b[49m\n\u001b[0;32m    196\u001b[0m \u001b[43m        \u001b[49m\u001b[43maccept_large_sparse\u001b[49m\u001b[38;5;241;43m=\u001b[39;49m\u001b[38;5;28;43;01mFalse\u001b[39;49;00m\u001b[43m,\u001b[49m\n\u001b[0;32m    197\u001b[0m \u001b[43m    \u001b[49m\u001b[43m)\u001b[49m\n\u001b[0;32m    199\u001b[0m y \u001b[38;5;241m=\u001b[39m \u001b[38;5;28mself\u001b[39m\u001b[38;5;241m.\u001b[39m_validate_targets(y)\n\u001b[0;32m    201\u001b[0m sample_weight \u001b[38;5;241m=\u001b[39m np\u001b[38;5;241m.\u001b[39masarray(\n\u001b[0;32m    202\u001b[0m     [] \u001b[38;5;28;01mif\u001b[39;00m sample_weight \u001b[38;5;129;01mis\u001b[39;00m \u001b[38;5;28;01mNone\u001b[39;00m \u001b[38;5;28;01melse\u001b[39;00m sample_weight, dtype\u001b[38;5;241m=\u001b[39mnp\u001b[38;5;241m.\u001b[39mfloat64\n\u001b[0;32m    203\u001b[0m )\n",
      "File \u001b[1;32m~\\AppData\\Local\\Programs\\Python\\Python311\\Lib\\site-packages\\sklearn\\base.py:622\u001b[0m, in \u001b[0;36mBaseEstimator._validate_data\u001b[1;34m(self, X, y, reset, validate_separately, cast_to_ndarray, **check_params)\u001b[0m\n\u001b[0;32m    620\u001b[0m         y \u001b[38;5;241m=\u001b[39m check_array(y, input_name\u001b[38;5;241m=\u001b[39m\u001b[38;5;124m\"\u001b[39m\u001b[38;5;124my\u001b[39m\u001b[38;5;124m\"\u001b[39m, \u001b[38;5;241m*\u001b[39m\u001b[38;5;241m*\u001b[39mcheck_y_params)\n\u001b[0;32m    621\u001b[0m     \u001b[38;5;28;01melse\u001b[39;00m:\n\u001b[1;32m--> 622\u001b[0m         X, y \u001b[38;5;241m=\u001b[39m \u001b[43mcheck_X_y\u001b[49m\u001b[43m(\u001b[49m\u001b[43mX\u001b[49m\u001b[43m,\u001b[49m\u001b[43m \u001b[49m\u001b[43my\u001b[49m\u001b[43m,\u001b[49m\u001b[43m \u001b[49m\u001b[38;5;241;43m*\u001b[39;49m\u001b[38;5;241;43m*\u001b[39;49m\u001b[43mcheck_params\u001b[49m\u001b[43m)\u001b[49m\n\u001b[0;32m    623\u001b[0m     out \u001b[38;5;241m=\u001b[39m X, y\n\u001b[0;32m    625\u001b[0m \u001b[38;5;28;01mif\u001b[39;00m \u001b[38;5;129;01mnot\u001b[39;00m no_val_X \u001b[38;5;129;01mand\u001b[39;00m check_params\u001b[38;5;241m.\u001b[39mget(\u001b[38;5;124m\"\u001b[39m\u001b[38;5;124mensure_2d\u001b[39m\u001b[38;5;124m\"\u001b[39m, \u001b[38;5;28;01mTrue\u001b[39;00m):\n",
      "File \u001b[1;32m~\\AppData\\Local\\Programs\\Python\\Python311\\Lib\\site-packages\\sklearn\\utils\\validation.py:1162\u001b[0m, in \u001b[0;36mcheck_X_y\u001b[1;34m(X, y, accept_sparse, accept_large_sparse, dtype, order, copy, force_all_finite, ensure_2d, allow_nd, multi_output, ensure_min_samples, ensure_min_features, y_numeric, estimator)\u001b[0m\n\u001b[0;32m   1142\u001b[0m     \u001b[38;5;28;01mraise\u001b[39;00m \u001b[38;5;167;01mValueError\u001b[39;00m(\n\u001b[0;32m   1143\u001b[0m         \u001b[38;5;124mf\u001b[39m\u001b[38;5;124m\"\u001b[39m\u001b[38;5;132;01m{\u001b[39;00mestimator_name\u001b[38;5;132;01m}\u001b[39;00m\u001b[38;5;124m requires y to be passed, but the target y is None\u001b[39m\u001b[38;5;124m\"\u001b[39m\n\u001b[0;32m   1144\u001b[0m     )\n\u001b[0;32m   1146\u001b[0m X \u001b[38;5;241m=\u001b[39m check_array(\n\u001b[0;32m   1147\u001b[0m     X,\n\u001b[0;32m   1148\u001b[0m     accept_sparse\u001b[38;5;241m=\u001b[39maccept_sparse,\n\u001b[1;32m   (...)\u001b[0m\n\u001b[0;32m   1159\u001b[0m     input_name\u001b[38;5;241m=\u001b[39m\u001b[38;5;124m\"\u001b[39m\u001b[38;5;124mX\u001b[39m\u001b[38;5;124m\"\u001b[39m,\n\u001b[0;32m   1160\u001b[0m )\n\u001b[1;32m-> 1162\u001b[0m y \u001b[38;5;241m=\u001b[39m \u001b[43m_check_y\u001b[49m\u001b[43m(\u001b[49m\u001b[43my\u001b[49m\u001b[43m,\u001b[49m\u001b[43m \u001b[49m\u001b[43mmulti_output\u001b[49m\u001b[38;5;241;43m=\u001b[39;49m\u001b[43mmulti_output\u001b[49m\u001b[43m,\u001b[49m\u001b[43m \u001b[49m\u001b[43my_numeric\u001b[49m\u001b[38;5;241;43m=\u001b[39;49m\u001b[43my_numeric\u001b[49m\u001b[43m,\u001b[49m\u001b[43m \u001b[49m\u001b[43mestimator\u001b[49m\u001b[38;5;241;43m=\u001b[39;49m\u001b[43mestimator\u001b[49m\u001b[43m)\u001b[49m\n\u001b[0;32m   1164\u001b[0m check_consistent_length(X, y)\n\u001b[0;32m   1166\u001b[0m \u001b[38;5;28;01mreturn\u001b[39;00m X, y\n",
      "File \u001b[1;32m~\\AppData\\Local\\Programs\\Python\\Python311\\Lib\\site-packages\\sklearn\\utils\\validation.py:1183\u001b[0m, in \u001b[0;36m_check_y\u001b[1;34m(y, multi_output, y_numeric, estimator)\u001b[0m\n\u001b[0;32m   1181\u001b[0m \u001b[38;5;28;01melse\u001b[39;00m:\n\u001b[0;32m   1182\u001b[0m     estimator_name \u001b[38;5;241m=\u001b[39m _check_estimator_name(estimator)\n\u001b[1;32m-> 1183\u001b[0m     y \u001b[38;5;241m=\u001b[39m \u001b[43mcolumn_or_1d\u001b[49m\u001b[43m(\u001b[49m\u001b[43my\u001b[49m\u001b[43m,\u001b[49m\u001b[43m \u001b[49m\u001b[43mwarn\u001b[49m\u001b[38;5;241;43m=\u001b[39;49m\u001b[38;5;28;43;01mTrue\u001b[39;49;00m\u001b[43m)\u001b[49m\n\u001b[0;32m   1184\u001b[0m     _assert_all_finite(y, input_name\u001b[38;5;241m=\u001b[39m\u001b[38;5;124m\"\u001b[39m\u001b[38;5;124my\u001b[39m\u001b[38;5;124m\"\u001b[39m, estimator_name\u001b[38;5;241m=\u001b[39mestimator_name)\n\u001b[0;32m   1185\u001b[0m     _ensure_no_complex_data(y)\n",
      "File \u001b[1;32m~\\AppData\\Local\\Programs\\Python\\Python311\\Lib\\site-packages\\sklearn\\utils\\validation.py:1244\u001b[0m, in \u001b[0;36mcolumn_or_1d\u001b[1;34m(y, dtype, warn)\u001b[0m\n\u001b[0;32m   1233\u001b[0m         warnings\u001b[38;5;241m.\u001b[39mwarn(\n\u001b[0;32m   1234\u001b[0m             (\n\u001b[0;32m   1235\u001b[0m                 \u001b[38;5;124m\"\u001b[39m\u001b[38;5;124mA column-vector y was passed when a 1d array was\u001b[39m\u001b[38;5;124m\"\u001b[39m\n\u001b[1;32m   (...)\u001b[0m\n\u001b[0;32m   1240\u001b[0m             stacklevel\u001b[38;5;241m=\u001b[39m\u001b[38;5;241m2\u001b[39m,\n\u001b[0;32m   1241\u001b[0m         )\n\u001b[0;32m   1242\u001b[0m     \u001b[38;5;28;01mreturn\u001b[39;00m _asarray_with_order(xp\u001b[38;5;241m.\u001b[39mreshape(y, (\u001b[38;5;241m-\u001b[39m\u001b[38;5;241m1\u001b[39m,)), order\u001b[38;5;241m=\u001b[39m\u001b[38;5;124m\"\u001b[39m\u001b[38;5;124mC\u001b[39m\u001b[38;5;124m\"\u001b[39m, xp\u001b[38;5;241m=\u001b[39mxp)\n\u001b[1;32m-> 1244\u001b[0m \u001b[38;5;28;01mraise\u001b[39;00m \u001b[38;5;167;01mValueError\u001b[39;00m(\n\u001b[0;32m   1245\u001b[0m     \u001b[38;5;124m\"\u001b[39m\u001b[38;5;124my should be a 1d array, got an array of shape \u001b[39m\u001b[38;5;132;01m{}\u001b[39;00m\u001b[38;5;124m instead.\u001b[39m\u001b[38;5;124m\"\u001b[39m\u001b[38;5;241m.\u001b[39mformat(shape)\n\u001b[0;32m   1246\u001b[0m )\n",
      "\u001b[1;31mValueError\u001b[0m: y should be a 1d array, got an array of shape (2025, 20) instead."
     ]
    }
   ],
   "source": [
    "from sklearn.svm import SVC\n",
    "\n",
    "# Create an instance of the SVM classifier\n",
    "clf = SVC()\n",
    "\n",
    "clf.fit(X_train, y_train)"
   ]
  },
  {
   "cell_type": "code",
   "execution_count": 95,
   "id": "50ea8646-3da8-4513-931d-501b76e2fa7f",
   "metadata": {},
   "outputs": [],
   "source": [
    "# using xgboost alogrithm"
   ]
  },
  {
   "cell_type": "code",
   "execution_count": 79,
   "id": "371601a6-00aa-41c0-b572-bb5a4baf3adc",
   "metadata": {},
   "outputs": [],
   "source": [
    "import xgboost as xgb\n"
   ]
  },
  {
   "cell_type": "code",
   "execution_count": 80,
   "id": "69bb355c-7bf3-4692-99a1-2d7d7002be59",
   "metadata": {},
   "outputs": [],
   "source": [
    "dtrain = xgb.DMatrix(X_train, label=y_train)\n",
    "dtest = xgb.DMatrix(X_test)\n"
   ]
  },
  {
   "cell_type": "code",
   "execution_count": 81,
   "id": "0f72f3fa-c9e0-4963-9666-6c78eacf9a62",
   "metadata": {},
   "outputs": [],
   "source": [
    "params = {\n",
    "    'objective': 'binary:logistic',  # for binary classification\n",
    "    'max_depth': 3,                 # maximum depth of the tree\n",
    "    'eta': 0.1,                     # learning rate\n",
    "    'eval_metric': 'logloss'        # evaluation metric\n",
    "}\n"
   ]
  },
  {
   "cell_type": "code",
   "execution_count": 82,
   "id": "93065657-cae7-497c-b8da-cb9eb34de67b",
   "metadata": {},
   "outputs": [],
   "source": [
    "num_round = 100  # number of boosting rounds (you can adjust this)\n",
    "bst = xgb.train(params, dtrain, num_round)\n"
   ]
  },
  {
   "cell_type": "code",
   "execution_count": 83,
   "id": "75e10d86-3285-4e94-88b0-0b64d30a7a54",
   "metadata": {},
   "outputs": [],
   "source": [
    "y_pred = bst.predict(dtest)\n"
   ]
  },
  {
   "cell_type": "code",
   "execution_count": 85,
   "id": "7645a5d6-a89f-4601-a94e-3735b0aefea5",
   "metadata": {},
   "outputs": [],
   "source": [
    "from sklearn.metrics import accuracy_score, confusion_matrix, classification_report"
   ]
  },
  {
   "cell_type": "code",
   "execution_count": 99,
   "id": "0499ce80-fdad-4589-ae33-a1072de977a9",
   "metadata": {},
   "outputs": [
    {
     "ename": "SyntaxError",
     "evalue": "invalid syntax (3444580901.py, line 7)",
     "output_type": "error",
     "traceback": [
      "\u001b[1;36m  Cell \u001b[1;32mIn[99], line 7\u001b[1;36m\u001b[0m\n\u001b[1;33m    else:\u001b[0m\n\u001b[1;37m    ^\u001b[0m\n\u001b[1;31mSyntaxError\u001b[0m\u001b[1;31m:\u001b[0m invalid syntax\n"
     ]
    }
   ],
   "source": [
    "# Evaluate the model\n",
    "threshold = 0.5  # Adjust this threshold based on your problem\n",
    "y_pred_binary = [1 if p > threshold else 0 for p in y_pred]\n",
    "\n",
    "if my_array.any():\n",
    "    # Code to execute if any element in my_array is True\n",
    "    else:\n",
    "        \n",
    "        print(my_array.all())\n",
    "    \n",
    "    # Code to execute if all elements in my_array are False\n",
    "\n",
    "\n"
   ]
  },
  {
   "cell_type": "code",
   "execution_count": null,
   "id": "e8125f0a-3642-4d5f-bf21-204bb2a31557",
   "metadata": {},
   "outputs": [],
   "source": []
  },
  {
   "cell_type": "code",
   "execution_count": null,
   "id": "7789f5de-819b-461b-a3f7-7bedcdc9c9de",
   "metadata": {},
   "outputs": [],
   "source": []
  },
  {
   "cell_type": "code",
   "execution_count": null,
   "id": "7a103fe8-69ba-4db3-a7c8-a726cb36c9d2",
   "metadata": {},
   "outputs": [],
   "source": []
  }
 ],
 "metadata": {
  "kernelspec": {
   "display_name": "Python 3 (ipykernel)",
   "language": "python",
   "name": "python3"
  },
  "language_info": {
   "codemirror_mode": {
    "name": "ipython",
    "version": 3
   },
   "file_extension": ".py",
   "mimetype": "text/x-python",
   "name": "python",
   "nbconvert_exporter": "python",
   "pygments_lexer": "ipython3",
   "version": "3.11.4"
  }
 },
 "nbformat": 4,
 "nbformat_minor": 5
}
